{
 "cells": [
  {
   "cell_type": "code",
   "execution_count": 2,
   "id": "5b8742bd-1c41-4386-b347-60df1d4d23dc",
   "metadata": {},
   "outputs": [],
   "source": [
    "!pip install torch pillow transformers peft datasets lightning wandb nltk bert-score -q"
   ]
  },
  {
   "cell_type": "code",
   "execution_count": null,
   "id": "a6113cbf-8799-4645-93ec-34f66be58931",
   "metadata": {},
   "outputs": [],
   "source": [
    "import torch\n",
    "\n",
    "from transformers import AutoModelForCausalLM, AutoTokenizer\n",
    "from transformers import TrainingArguments, Trainer\n",
    "from transformers import EarlyStoppingCallback\n",
    "\n",
    "from peft import LoraConfig, get_peft_model\n",
    "from datasets import load_dataset\n",
    "\n",
    "# Load Mistral 7B\n",
    "tokenizer = AutoTokenizer.from_pretrained(\"mistralai/Mistral-7B\")\n",
    "model = AutoModelForCausalLM.from_pretrained(\"mistralai/Mistral-7B\", device_map=\"auto\")"
   ]
  },
  {
   "cell_type": "code",
   "execution_count": null,
   "id": "7c8943be-6566-4700-be7f-127648b05240",
   "metadata": {},
   "outputs": [],
   "source": [
    "dataset = load_dataset(\"wikitext\", \"wikitext-2-raw-v1\")\n",
    "\n",
    "print(dataset[\"train\"][0])  # Check the first sample"
   ]
  },
  {
   "cell_type": "code",
   "execution_count": null,
   "id": "7482783c-2551-4eb6-8e6f-68f6b41fd42c",
   "metadata": {},
   "outputs": [],
   "source": [
    "# Preprocessing function\n",
    "def preprocess_data(example):\n",
    "    return tokenizer(\n",
    "        example[\"text\"],\n",
    "        truncation=True,         # Ensure inputs fit within max length\n",
    "        padding=\"max_length\",    # Add padding tokens to make all inputs equal length\n",
    "        max_length=512           # Mistral's max token limit\n",
    "    )\n",
    "\n",
    "\n",
    "tokenized_dataset = dataset.map(preprocess_data, batched=True)\n",
    "print(tokenized_dataset[\"train\"][0])"
   ]
  },
  {
   "cell_type": "code",
   "execution_count": null,
   "id": "c4f85dfa-5938-40a6-b3e7-6cfb64ae7f3e",
   "metadata": {},
   "outputs": [],
   "source": [
    "lora_config = LoraConfig(\n",
    "    r=8,\n",
    "    lora_alpha=16,\n",
    "    target_modules=[\n",
    "        \"q_proj\",\n",
    "        \"k_proj\",\n",
    "        \"v_proj\",\n",
    "        \"o_proj\",\n",
    "        \"gate_proj\",\n",
    "        \"up_proj\",\n",
    "        \"down_proj\",\n",
    "        \"lm_head\",\n",
    "    ],\n",
    "    bias=\"none\",\n",
    "    lora_dropout=0.05, \n",
    "    task_type=\"CAUSAL_LM\",\n",
    ")\n",
    "\n",
    "model = get_peft_model(model, lora_config)"
   ]
  },
  {
   "cell_type": "code",
   "execution_count": null,
   "id": "8895d525-2a6b-43ec-aa63-7794e1a95a62",
   "metadata": {},
   "outputs": [],
   "source": [
    "# Define training arguments\n",
    "training_args = TrainingArguments(\n",
    "    output_dir=\"./mistral_finetuned\",    # Directory to save the model\n",
    "    evaluation_strategy=\"steps\",         # Evaluate the model periodically\n",
    "    save_strategy=\"steps\",               # Save model checkpoints periodically\n",
    "    logging_dir=\"./logs\",                # Directory for logs\n",
    "    learning_rate=2e-5,                  # Learning rate for fine-tuning\n",
    "    per_device_train_batch_size=4,       # Batch size per device\n",
    "    gradient_accumulation_steps=8,       # Accumulate gradients to simulate larger batches\n",
    "    num_train_epochs=3,                  # Number of training epochs\n",
    "    logging_steps=100,                   # Log progress every 100 steps\n",
    "    save_steps=500,                      # Save a checkpoint every 500 steps\n",
    "    fp16=True,                           # Enable mixed precision for faster training\n",
    "    push_to_hub=False                    # Disable auto-push to Hugging Face Hub\n",
    ")\n",
    "\n",
    "# Initialize the Trainer\n",
    "trainer = Trainer(\n",
    "    model=model,\n",
    "    args=training_args,\n",
    "    train_dataset=tokenized_dataset[\"train\"],  # Training dataset\n",
    "    eval_dataset=tokenized_dataset[\"test\"]    # Evaluation dataset\n",
    ")\n",
    "\n",
    "trainer.add_callback(EarlyStoppingCallback(early_stopping_patience=2))"
   ]
  },
  {
   "cell_type": "code",
   "execution_count": null,
   "id": "180abcbd-90de-4f73-afef-7952c48d5cc1",
   "metadata": {},
   "outputs": [],
   "source": [
    "input_text = \"What is the capital of France?\"\n",
    "\n",
    "inputs = tokenizer(input_text, return_tensors=\"pt\").to(\"cuda\")\n",
    "\n",
    "outputs = model.generate(**inputs, max_length=50)\n",
    "\n",
    "print(tokenizer.decode(outputs[0], skip_special_tokens=True))"
   ]
  }
 ],
 "metadata": {
  "kernelspec": {
   "display_name": "Python 3 (ipykernel)",
   "language": "python",
   "name": "python3"
  },
  "language_info": {
   "codemirror_mode": {
    "name": "ipython",
    "version": 3
   },
   "file_extension": ".py",
   "mimetype": "text/x-python",
   "name": "python",
   "nbconvert_exporter": "python",
   "pygments_lexer": "ipython3",
   "version": "3.9.5"
  }
 },
 "nbformat": 4,
 "nbformat_minor": 5
}
