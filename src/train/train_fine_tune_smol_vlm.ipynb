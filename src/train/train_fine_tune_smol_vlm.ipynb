{
 "cells": [
  {
   "cell_type": "code",
   "execution_count": 4,
   "id": "716ab5a0-f244-4797-88b0-2e8e1a95dc37",
   "metadata": {},
   "outputs": [],
   "source": [
    "!pip install torch pillow transformers peft datasets lightning wandb nltk bitsandbytes accelerate bert-score -q"
   ]
  },
  {
   "cell_type": "markdown",
   "id": "452a47e0-518c-4501-a0b6-829efbc3f60b",
   "metadata": {},
   "source": [
    "## Training"
   ]
  },
  {
   "cell_type": "code",
   "execution_count": 5,
   "id": "9f9b3460-a67d-4c74-895f-e9ce0899f878",
   "metadata": {},
   "outputs": [
    {
     "data": {
      "application/vnd.jupyter.widget-view+json": {
       "model_id": "6eb02bccdbf74e26b7db6184499ced6d",
       "version_major": 2,
       "version_minor": 0
      },
      "text/plain": [
       "VBox(children=(HTML(value='<center> <img\\nsrc=https://huggingface.co/front/assets/huggingface_logo-noborder.sv…"
      ]
     },
     "metadata": {},
     "output_type": "display_data"
    }
   ],
   "source": [
    "from datasets import load_dataset, Image\n",
    "from PIL import Image as PILImage\n",
    "\n",
    "from transformers import Idefics3ForConditionalGeneration, AutoProcessor, BitsAndBytesConfig\n",
    "from peft import LoraConfig, get_peft_model, PeftModel\n",
    "\n",
    "import torch\n",
    "from torch.utils.data import Dataset, DataLoader\n",
    "import lightning as L\n",
    "from lightning.pytorch.callbacks import Callback\n",
    "from lightning.pytorch.callbacks import EarlyStopping, ModelCheckpoint\n",
    "from lightning.pytorch.loggers import WandbLogger\n",
    "\n",
    "import re\n",
    "from nltk import edit_distance\n",
    "import numpy as np\n",
    "import requests\n",
    "import io\n",
    "from bert_score import score as bert_score\n",
    "\n",
    "from huggingface_hub import HfApi\n",
    "from huggingface_hub import notebook_login\n",
    "\n",
    "notebook_login()\n",
    "\n",
    "MAX_LENGTH = 256\n",
    "\n",
    "MODEL_ID = \"HuggingFaceTB/SmolVLM-Base\"\n",
    "REPO_ID = \"AndresSebad/smol-vlm-memes-chilenos-small\"\n",
    "DATASET_ID = \"AndresSebad/memes_instagram_chilenos_es_small\"\n",
    "\n",
    "WANDB_PROJECT = \"SmolVLMMemes\"\n",
    "WANDB_NAME = \"smol-vlm-memes_chilenos_small\"\n",
    "WANDB_KEY = \"90e0053adedf3ef5d182a9ca5142acebe91158ff\""
   ]
  },
  {
   "cell_type": "code",
   "execution_count": 2,
   "id": "9f2d6d5c-a02f-4096-9bd5-a1a6fe641bcc",
   "metadata": {},
   "outputs": [
    {
     "name": "stderr",
     "output_type": "stream",
     "text": [
      "\u001b[34m\u001b[1mwandb\u001b[0m: \u001b[33mWARNING\u001b[0m If you're specifying your api key in code, ensure this code is not shared publicly.\n",
      "\u001b[34m\u001b[1mwandb\u001b[0m: \u001b[33mWARNING\u001b[0m Consider setting the WANDB_API_KEY environment variable, or running `wandb login` from the command line.\n",
      "\u001b[34m\u001b[1mwandb\u001b[0m: Appending key for api.wandb.ai to your netrc file: /home/user/.netrc\n",
      "\u001b[34m\u001b[1mwandb\u001b[0m: Currently logged in as: \u001b[33mandres-seba-ai\u001b[0m (\u001b[33mandres-seba-ai-uc\u001b[0m) to \u001b[32mhttps://api.wandb.ai\u001b[0m. Use \u001b[1m`wandb login --relogin`\u001b[0m to force relogin\n"
     ]
    },
    {
     "data": {
      "text/plain": [
       "True"
      ]
     },
     "execution_count": 2,
     "metadata": {},
     "output_type": "execute_result"
    }
   ],
   "source": [
    "import wandb\n",
    "\n",
    "wandb.login(key=WANDB_KEY)"
   ]
  },
  {
   "cell_type": "code",
   "execution_count": 4,
   "id": "ac39887b-35a4-4a0f-837e-509545e8f541",
   "metadata": {},
   "outputs": [
    {
     "data": {
      "application/vnd.jupyter.widget-view+json": {
       "model_id": "77975490183f439da0ba1abc32e55df9",
       "version_major": 2,
       "version_minor": 0
      },
      "text/plain": [
       "README.md:   0%|          | 0.00/366 [00:00<?, ?B/s]"
      ]
     },
     "metadata": {},
     "output_type": "display_data"
    },
    {
     "data": {
      "application/vnd.jupyter.widget-view+json": {
       "model_id": "f41ccf5ff08943c49a73e4c05e898481",
       "version_major": 2,
       "version_minor": 0
      },
      "text/plain": [
       "train-00000-of-00001.parquet:   0%|          | 0.00/122M [00:00<?, ?B/s]"
      ]
     },
     "metadata": {},
     "output_type": "display_data"
    },
    {
     "data": {
      "application/vnd.jupyter.widget-view+json": {
       "model_id": "c1cd0138af884690ad0322fb660b9dfd",
       "version_major": 2,
       "version_minor": 0
      },
      "text/plain": [
       "Generating train split:   0%|          | 0/700 [00:00<?, ? examples/s]"
      ]
     },
     "metadata": {},
     "output_type": "display_data"
    },
    {
     "data": {
      "application/vnd.jupyter.widget-view+json": {
       "model_id": "5e7705799aca47368b91cdbcbaedd726",
       "version_major": 2,
       "version_minor": 0
      },
      "text/plain": [
       "Map:   0%|          | 0/700 [00:00<?, ? examples/s]"
      ]
     },
     "metadata": {},
     "output_type": "display_data"
    }
   ],
   "source": [
    "ds = load_dataset(DATASET_ID, trust_remote_code=True)\n",
    "split_ds = ds['train']\n",
    "\n",
    "def preprocess(dataset):\n",
    "    dataset = dataset.add_column(\"question\", [\"Explica este meme como lo haría un chileno.\"] * len(dataset))\n",
    "    cols_to_keep = [\"image\", \"multiple_choice_answer\", \"question\"]\n",
    "    dataset = dataset.remove_columns([c for c in dataset.column_names if c not in cols_to_keep])\n",
    "    return dataset\n",
    "\n",
    "train_ds = preprocess(split_ds)\n",
    "train_ds = train_ds.cast_column(\"image\", Image(decode=True))\n",
    "def resize_batch(examples):\n",
    "    examples[\"image\"] = [img.resize((336, 336)) for img in examples[\"image\"]]\n",
    "    return examples\n",
    "\n",
    "# Los dejamos en 336x336 pixeles\n",
    "train_ds = train_ds.map(resize_batch, batched=True)"
   ]
  },
  {
   "cell_type": "code",
   "execution_count": 5,
   "id": "95d304c2-ba22-4cc4-8e57-1e2a770d94b3",
   "metadata": {},
   "outputs": [],
   "source": [
    "splits = train_ds.train_test_split(test_size=0.1, seed=42)\n",
    "train_ds = splits['train'] \n",
    "val_ds  = splits['test']"
   ]
  },
  {
   "cell_type": "code",
   "execution_count": 6,
   "id": "30d53964-8552-47e8-a593-7a62503f020c",
   "metadata": {},
   "outputs": [
    {
     "data": {
      "text/plain": [
       "(Dataset({\n",
       "     features: ['image', 'multiple_choice_answer', 'question'],\n",
       "     num_rows: 630\n",
       " }),\n",
       " Dataset({\n",
       "     features: ['image', 'multiple_choice_answer', 'question'],\n",
       "     num_rows: 70\n",
       " }))"
      ]
     },
     "execution_count": 6,
     "metadata": {},
     "output_type": "execute_result"
    }
   ],
   "source": [
    "train_ds, val_ds"
   ]
  },
  {
   "cell_type": "code",
   "execution_count": 7,
   "id": "5064ebac-29db-467c-b0b7-410975a401d7",
   "metadata": {},
   "outputs": [
    {
     "data": {
      "application/vnd.jupyter.widget-view+json": {
       "model_id": "00cec7dfb0044a95a2e63624fb52aa9c",
       "version_major": 2,
       "version_minor": 0
      },
      "text/plain": [
       "processor_config.json:   0%|          | 0.00/68.0 [00:00<?, ?B/s]"
      ]
     },
     "metadata": {},
     "output_type": "display_data"
    },
    {
     "data": {
      "application/vnd.jupyter.widget-view+json": {
       "model_id": "9a756438c6084c20bc12f1a87ec669e6",
       "version_major": 2,
       "version_minor": 0
      },
      "text/plain": [
       "chat_template.json:   0%|          | 0.00/424 [00:00<?, ?B/s]"
      ]
     },
     "metadata": {},
     "output_type": "display_data"
    },
    {
     "data": {
      "application/vnd.jupyter.widget-view+json": {
       "model_id": "ded3dc3d4fbc45f79ecd54a5fd33c924",
       "version_major": 2,
       "version_minor": 0
      },
      "text/plain": [
       "preprocessor_config.json:   0%|          | 0.00/486 [00:00<?, ?B/s]"
      ]
     },
     "metadata": {},
     "output_type": "display_data"
    },
    {
     "data": {
      "application/vnd.jupyter.widget-view+json": {
       "model_id": "11a94f6bb53c40c1bda564e0bb2501b5",
       "version_major": 2,
       "version_minor": 0
      },
      "text/plain": [
       "tokenizer_config.json:   0%|          | 0.00/4.05k [00:00<?, ?B/s]"
      ]
     },
     "metadata": {},
     "output_type": "display_data"
    },
    {
     "data": {
      "application/vnd.jupyter.widget-view+json": {
       "model_id": "c1ffc754354347a9afb19e5ccf2223af",
       "version_major": 2,
       "version_minor": 0
      },
      "text/plain": [
       "vocab.json:   0%|          | 0.00/801k [00:00<?, ?B/s]"
      ]
     },
     "metadata": {},
     "output_type": "display_data"
    },
    {
     "data": {
      "application/vnd.jupyter.widget-view+json": {
       "model_id": "1428b78933db45d68a9801c52a4107ba",
       "version_major": 2,
       "version_minor": 0
      },
      "text/plain": [
       "merges.txt:   0%|          | 0.00/466k [00:00<?, ?B/s]"
      ]
     },
     "metadata": {},
     "output_type": "display_data"
    },
    {
     "data": {
      "application/vnd.jupyter.widget-view+json": {
       "model_id": "53d96c556c074c11bf002f3ceccca6d7",
       "version_major": 2,
       "version_minor": 0
      },
      "text/plain": [
       "tokenizer.json:   0%|          | 0.00/3.52M [00:00<?, ?B/s]"
      ]
     },
     "metadata": {},
     "output_type": "display_data"
    },
    {
     "data": {
      "application/vnd.jupyter.widget-view+json": {
       "model_id": "61f6f1ccca0942e184d6937b4a96328c",
       "version_major": 2,
       "version_minor": 0
      },
      "text/plain": [
       "added_tokens.json:   0%|          | 0.00/92.0 [00:00<?, ?B/s]"
      ]
     },
     "metadata": {},
     "output_type": "display_data"
    },
    {
     "data": {
      "application/vnd.jupyter.widget-view+json": {
       "model_id": "a9b86e93b76043bf8cadff38499f51a1",
       "version_major": 2,
       "version_minor": 0
      },
      "text/plain": [
       "special_tokens_map.json:   0%|          | 0.00/1.07k [00:00<?, ?B/s]"
      ]
     },
     "metadata": {},
     "output_type": "display_data"
    }
   ],
   "source": [
    "processor = AutoProcessor.from_pretrained(\n",
    "    MODEL_ID\n",
    ")\n",
    "\n",
    "image_token_id = processor.tokenizer.additional_special_tokens_ids[\n",
    "            processor.tokenizer.additional_special_tokens.index(\"<image>\")]"
   ]
  },
  {
   "cell_type": "code",
   "execution_count": 7,
   "id": "c475d071-964e-474f-9928-51bca851c8df",
   "metadata": {},
   "outputs": [],
   "source": [
    "model = Idefics3ForConditionalGeneration.from_pretrained(\n",
    "        MODEL_ID,\n",
    "        torch_dtype=torch.float16\n",
    "    )"
   ]
  },
  {
   "cell_type": "code",
   "execution_count": 9,
   "id": "d6a43c55-ce0b-48b7-b89c-5835bdd4cae5",
   "metadata": {},
   "outputs": [],
   "source": [
    "lora_config = LoraConfig(\n",
    "        r=8,\n",
    "        lora_alpha=8,\n",
    "        lora_dropout=0.1,\n",
    "        target_modules=['down_proj','o_proj','k_proj','q_proj','gate_proj','up_proj','v_proj'],\n",
    "        init_lora_weights=\"gaussian\"\n",
    ")\n",
    "\n",
    "model = get_peft_model(model, lora_config)"
   ]
  },
  {
   "cell_type": "code",
   "execution_count": 10,
   "id": "7d2f9160-3f37-4eff-9990-55ecfa08bf96",
   "metadata": {},
   "outputs": [],
   "source": [
    "class SmolVLMDataset(Dataset):\n",
    "    def __init__(\n",
    "        self,\n",
    "        dataset = None\n",
    "    ):\n",
    "        super().__init__()\n",
    "        self.dataset = dataset\n",
    "\n",
    "    def __len__(self) -> int:\n",
    "        return len(self.dataset)\n",
    "\n",
    "    def __getitem__(self, idx: int):\n",
    "        sample = self.dataset[idx]\n",
    "        image = sample[\"image\"]\n",
    "        target_sequence = sample[\"multiple_choice_answer\"]\n",
    "        return image, target_sequence"
   ]
  },
  {
   "cell_type": "code",
   "execution_count": 11,
   "id": "4e939c8c-4833-43d1-94b6-84dad98165f1",
   "metadata": {},
   "outputs": [],
   "source": [
    "train_dataset = SmolVLMDataset(dataset=train_ds)\n",
    "val_dataset = SmolVLMDataset(dataset=val_ds)"
   ]
  },
  {
   "cell_type": "code",
   "execution_count": 14,
   "id": "0789d6f7-3d8a-42a1-9e66-9c54a63c61fb",
   "metadata": {},
   "outputs": [
    {
     "name": "stdout",
     "output_type": "stream",
     "text": [
      "Ya, mira, este meme es una talla clásica sobre cómo percibimos las cosas de manera súper diferente. Es como cuando una mina que es toda aesthetic te invita a su pieza, y ella la ve como un lugar bacán, lleno de color rosado, peluches, y toda la onda kawaii, ¿cachái? Pero, uno la ve y se siente como en una celda acolchada de un psiquiátrico, todo blanco y vacío, como para volverse loco.\n"
     ]
    }
   ],
   "source": [
    "val_example = val_dataset[0]\n",
    "\n",
    "image, target_sequence = val_example\n",
    "\n",
    "print(target_sequence)"
   ]
  },
  {
   "cell_type": "code",
   "execution_count": 15,
   "id": "43e3f510-cc64-4771-a55c-9899e4a0b6a0",
   "metadata": {},
   "outputs": [],
   "source": [
    "def train_collate_fn(examples):\n",
    "    images, ground_truths = zip(*examples)\n",
    "\n",
    "    prompts = []\n",
    "    for gt in ground_truths:\n",
    "        conversation = [\n",
    "            {\n",
    "                \"role\": \"user\",\n",
    "                \"content\": [\n",
    "                    {\"type\": \"image\"},\n",
    "                    {\"type\": \"text\", \"text\": \"Si hay texto en la imagen, entiende su significado sin repetirlo. Observa también la imagen. Explica qué significa este meme en Chile, usando lenguaje coloquial chileno.\"},\n",
    "                ],\n",
    "            },\n",
    "            {\n",
    "                \"role\": \"assistant\",\n",
    "                \"content\": [\n",
    "                    {\"type\": \"text\", \"text\": gt},\n",
    "                ],\n",
    "            }\n",
    "        ]\n",
    "        prompt = processor.apply_chat_template(conversation, add_generation_prompt=False)\n",
    "        prompts.append(prompt)\n",
    "\n",
    "    batch = processor(\n",
    "        text=prompts,\n",
    "        images=list(images),\n",
    "        return_tensors=\"pt\",\n",
    "        padding=True\n",
    "    )\n",
    "\n",
    "    labels = batch[\"input_ids\"].clone()\n",
    "    labels[labels == processor.tokenizer.pad_token_id] = -100\n",
    "    labels[labels == image_token_id] = -100\n",
    "    batch[\"labels\"] = labels\n",
    "\n",
    "    return (\n",
    "        batch[\"input_ids\"],\n",
    "        batch[\"attention_mask\"],\n",
    "        batch[\"pixel_values\"],\n",
    "        batch[\"labels\"],\n",
    "    )\n",
    "\n",
    "def eval_collate_fn(examples):\n",
    "    images, ground_truths = zip(*examples)\n",
    "\n",
    "    prompts = []\n",
    "    for _ in ground_truths:\n",
    "        conversation = [\n",
    "            {\n",
    "                \"role\": \"user\",\n",
    "                \"content\": [\n",
    "                    {\"type\": \"image\"},\n",
    "                    {\"type\": \"text\", \"text\": \"Si hay texto en la imagen, entiende su significado sin repetirlo. Observa también la imagen. Explica qué significa este meme en Chile, usando lenguaje coloquial chileno.\"},\n",
    "                ],\n",
    "            }\n",
    "        ]\n",
    "        prompt = processor.apply_chat_template(conversation, add_generation_prompt=False)\n",
    "        prompts.append(prompt)\n",
    "\n",
    "    batch = processor(\n",
    "        text=prompts,\n",
    "        images=list(images),\n",
    "        return_tensors=\"pt\",\n",
    "        padding=True\n",
    "    )\n",
    "\n",
    "    return (\n",
    "        batch[\"input_ids\"],\n",
    "        batch[\"attention_mask\"],\n",
    "        batch[\"pixel_values\"],\n",
    "        list(ground_truths),\n",
    "    )"
   ]
  },
  {
   "cell_type": "code",
   "execution_count": 16,
   "id": "07b4550f-d4cb-49d5-af4b-3f2e80b194ef",
   "metadata": {},
   "outputs": [],
   "source": [
    "class SmolModelPLModule(L.LightningModule):\n",
    "    def __init__(self, config, processor, model):\n",
    "        super().__init__()\n",
    "        self.config = config\n",
    "        self.processor = processor\n",
    "        self.model = model\n",
    "\n",
    "        self.batch_size = config.get(\"batch_size\")\n",
    "\n",
    "    def training_step(self, batch, batch_idx):\n",
    "        input_ids, attention_mask, pixel_values, labels = batch\n",
    "\n",
    "        outputs = self.model(input_ids=input_ids,\n",
    "                            attention_mask=attention_mask,\n",
    "                            pixel_values=pixel_values,\n",
    "                            labels=labels\n",
    "                          )\n",
    "        loss = outputs.loss\n",
    "\n",
    "        self.log(\"train_loss\", loss)\n",
    "\n",
    "        return loss\n",
    "\n",
    "    def on_validation_start(self):\n",
    "        self.n_val_printed = 0  # Reiniciamos contador de la validación\n",
    "\n",
    "    #def validation_step(self, batch, batch_idx, dataset_idx=0):\n",
    "    #    input_ids, attention_mask, pixel_values, image_sizes, answers = batch\n",
    "    #\n",
    "    #    generated_ids = self.model.generate(input_ids=input_ids, attention_mask=attention_mask,\n",
    "    #                                   pixel_values=pixel_values, image_sizes=image_sizes, max_new_tokens=MAX_LENGTH)\n",
    "    #    predictions = self.processor.batch_decode(generated_ids[:, input_ids.size(1):], skip_special_tokens=True)\n",
    "    #\n",
    "    #    scores = []\n",
    "    #    for pred, answer in zip(predictions, answers):\n",
    "    #        scores.append(edit_distance(pred, answer) / max(len(pred), len(answer)))\n",
    "    #\n",
    "    #        if self.config.get(\"verbose\", False) and self.n_val_printed < 2:\n",
    "    #            print(f\"Prediction: {pred}\")\n",
    "    #            print(f\"    Answer: {answer}\")\n",
    "    #            print(f\" Normed ED: {scores[0]}\")\n",
    "    #            self.n_val_printed += 1 # Asi imprimimos solo dos ejemplos\n",
    "    #\n",
    "    #    self.log(\"val_edit_distance\", np.mean(scores))\n",
    "    #\n",
    "    #    return scores\n",
    "\n",
    "    def validation_step(self, batch):\n",
    "        input_ids, attention_mask, pixel_values, answers = batch\n",
    "    \n",
    "        generated_ids = self.model.generate(\n",
    "            input_ids=input_ids,\n",
    "            attention_mask=attention_mask,\n",
    "            pixel_values=pixel_values,\n",
    "            max_new_tokens=MAX_LENGTH\n",
    "        )\n",
    "    \n",
    "        predictions = self.processor.batch_decode(generated_ids[:, input_ids.size(1):], skip_special_tokens=True)\n",
    "    \n",
    "        # EDIT DISTANCE\n",
    "        ed_scores = []\n",
    "        for pred, answer in zip(predictions, answers):\n",
    "            ed_scores.append(edit_distance(pred, answer) / max(len(pred), len(answer)))\n",
    "    \n",
    "        self.log(\"val_edit_distance\", np.mean(ed_scores))\n",
    "    \n",
    "        # BERTScore\n",
    "        P, R, F1 = bert_score(predictions, answers, lang=\"es\", verbose=False)\n",
    "        mean_f1 = F1.mean().item()\n",
    "        self.log(\"val_bertscore_f1\", mean_f1, prog_bar=True)\n",
    "    \n",
    "        # Verbose ejemplos\n",
    "        if self.config.get(\"verbose\", False) and self.n_val_printed < 2:\n",
    "            print(f\"Prediction: {predictions[0]}\")\n",
    "            print(f\"    Answer: {answers[0]}\")\n",
    "            print(f\" Normed ED: {ed_scores[0]}\")\n",
    "            print(f\" BERTScore F1: {F1[0].item():.4f}\")\n",
    "            self.n_val_printed += 1\n",
    "    \n",
    "        return {\"edit_distance\": np.mean(ed_scores), \"bertscore_f1\": mean_f1}\n",
    "\n",
    "    def configure_optimizers(self):\n",
    "        optimizer = torch.optim.AdamW(self.parameters(), lr=self.config.get(\"lr\"))\n",
    "\n",
    "        return optimizer\n",
    "\n",
    "    def train_dataloader(self):\n",
    "        return DataLoader(train_dataset, collate_fn=train_collate_fn, batch_size=self.batch_size, shuffle=True, num_workers=4)\n",
    "\n",
    "    def val_dataloader(self):\n",
    "        return DataLoader(val_dataset, collate_fn=eval_collate_fn, batch_size=self.batch_size, shuffle=False, num_workers=4)"
   ]
  },
  {
   "cell_type": "code",
   "execution_count": 17,
   "id": "d32eed5a-5553-4199-8fb7-3948d7ff7682",
   "metadata": {},
   "outputs": [],
   "source": [
    "config = {\"max_epochs\": 10,\n",
    "          \"val_check_interval\": 0.5,\n",
    "          \"check_val_every_n_epoch\": 1,\n",
    "          \"gradient_clip_val\": 1.0,\n",
    "          \"accumulate_grad_batches\": 16,\n",
    "          \"lr\": 1e-4,\n",
    "          \"batch_size\": 1,\n",
    "          \"num_nodes\": 1,\n",
    "          \"warmup_steps\": 50,\n",
    "          \"result_path\": \"./result\",\n",
    "          \"verbose\": True,\n",
    "          \"num_workers\": 4\n",
    "}\n",
    "\n",
    "model_module = SmolModelPLModule(config, processor, model)"
   ]
  },
  {
   "cell_type": "code",
   "execution_count": 18,
   "id": "14f7ab64-cfca-4a93-a04e-66378f553b5b",
   "metadata": {},
   "outputs": [],
   "source": [
    "api = HfApi()\n",
    "\n",
    "class PushToHubCallback(Callback):\n",
    "    def on_train_epoch_end(self, trainer, pl_module):\n",
    "        print(f\"Subiendo modelo a Hub en HF, epoch {trainer.current_epoch}\")\n",
    "        pl_module.model.push_to_hub(REPO_ID,\n",
    "                                    commit_message=f\"Entrenamiento en Progreso, epoch {trainer.current_epoch}\")\n",
    "    def on_train_end(self, trainer, pl_module):\n",
    "        print(f\"Subiendo modelo y procesador a Hub en HF\")\n",
    "        pl_module.processor.push_to_hub(REPO_ID,\n",
    "                                    commit_message=f\"Entrenamiento Terminado.\")\n",
    "        pl_module.model.push_to_hub(REPO_ID,\n",
    "                                    commit_message=f\"Entrenamiento Terminado.\")\n",
    "\n",
    "early_stop_callback = EarlyStopping(monitor=\"val_bertscore_f1\", patience=3, verbose=False, mode=\"max\")"
   ]
  },
  {
   "cell_type": "code",
   "execution_count": null,
   "id": "d49be2b4-b215-42a6-a065-df1090250159",
   "metadata": {},
   "outputs": [
    {
     "name": "stderr",
     "output_type": "stream",
     "text": [
      "Using 16bit Automatic Mixed Precision (AMP)\n",
      "GPU available: True (cuda), used: True\n",
      "TPU available: False, using: 0 TPU cores\n",
      "HPU available: False, using: 0 HPUs\n",
      "You are using a CUDA device ('NVIDIA L40S') that has Tensor Cores. To properly utilize them, you should set `torch.set_float32_matmul_precision('medium' | 'high')` which will trade-off precision for performance. For more details, read https://pytorch.org/docs/stable/generated/torch.set_float32_matmul_precision.html#torch.set_float32_matmul_precision\n"
     ]
    },
    {
     "data": {
      "text/html": [
       "Tracking run with wandb version 0.19.10"
      ],
      "text/plain": [
       "<IPython.core.display.HTML object>"
      ]
     },
     "metadata": {},
     "output_type": "display_data"
    },
    {
     "data": {
      "text/html": [
       "Run data is saved locally in <code>./wandb/run-20250505_042556-4vk56gst</code>"
      ],
      "text/plain": [
       "<IPython.core.display.HTML object>"
      ]
     },
     "metadata": {},
     "output_type": "display_data"
    },
    {
     "data": {
      "text/html": [
       "Syncing run <strong><a href='https://wandb.ai/andres-seba-ai-uc/SmolVLMMemes/runs/4vk56gst' target=\"_blank\">light-cruiser-2</a></strong> to <a href='https://wandb.ai/andres-seba-ai-uc/SmolVLMMemes' target=\"_blank\">Weights & Biases</a> (<a href='https://wandb.me/developer-guide' target=\"_blank\">docs</a>)<br>"
      ],
      "text/plain": [
       "<IPython.core.display.HTML object>"
      ]
     },
     "metadata": {},
     "output_type": "display_data"
    },
    {
     "data": {
      "text/html": [
       " View project at <a href='https://wandb.ai/andres-seba-ai-uc/SmolVLMMemes' target=\"_blank\">https://wandb.ai/andres-seba-ai-uc/SmolVLMMemes</a>"
      ],
      "text/plain": [
       "<IPython.core.display.HTML object>"
      ]
     },
     "metadata": {},
     "output_type": "display_data"
    },
    {
     "data": {
      "text/html": [
       " View run at <a href='https://wandb.ai/andres-seba-ai-uc/SmolVLMMemes/runs/4vk56gst' target=\"_blank\">https://wandb.ai/andres-seba-ai-uc/SmolVLMMemes/runs/4vk56gst</a>"
      ],
      "text/plain": [
       "<IPython.core.display.HTML object>"
      ]
     },
     "metadata": {},
     "output_type": "display_data"
    },
    {
     "name": "stderr",
     "output_type": "stream",
     "text": [
      "LOCAL_RANK: 0 - CUDA_VISIBLE_DEVICES: [0]\n",
      "\n",
      "  | Name  | Type      | Params | Mode \n",
      "--------------------------------------------\n",
      "0 | model | PeftModel | 2.3 B  | train\n",
      "--------------------------------------------\n",
      "10.5 M    Trainable params\n",
      "2.2 B     Non-trainable params\n",
      "2.3 B     Total params\n",
      "9,027.239 Total estimated model params size (MB)\n",
      "2492      Modules in train mode\n",
      "654       Modules in eval mode\n"
     ]
    },
    {
     "data": {
      "application/vnd.jupyter.widget-view+json": {
       "model_id": "265f07f6bc214455a8dbc4ea4cbeb6a6",
       "version_major": 2,
       "version_minor": 0
      },
      "text/plain": [
       "Training: |          | 0/? [00:00<?, ?it/s]"
      ]
     },
     "metadata": {},
     "output_type": "display_data"
    },
    {
     "data": {
      "application/vnd.jupyter.widget-view+json": {
       "model_id": "f28fef4ec021427c832e82f470079fa5",
       "version_major": 2,
       "version_minor": 0
      },
      "text/plain": [
       "Validation: |          | 0/? [00:00<?, ?it/s]"
      ]
     },
     "metadata": {},
     "output_type": "display_data"
    },
    {
     "name": "stderr",
     "output_type": "stream",
     "text": [
      "/home/user/miniconda/lib/python3.9/site-packages/lightning/pytorch/utilities/data.py:79: Trying to infer the `batch_size` from an ambiguous collection. The batch size we found is 1. To avoid any miscalculations, use `self.log(..., batch_size=batch_size)`.\n"
     ]
    },
    {
     "data": {
      "application/vnd.jupyter.widget-view+json": {
       "model_id": "edc1407b70d4450f81a74b61c97ae50f",
       "version_major": 2,
       "version_minor": 0
      },
      "text/plain": [
       "tokenizer_config.json:   0%|          | 0.00/49.0 [00:00<?, ?B/s]"
      ]
     },
     "metadata": {},
     "output_type": "display_data"
    },
    {
     "data": {
      "application/vnd.jupyter.widget-view+json": {
       "model_id": "28009a954475468085ddc0454e42e359",
       "version_major": 2,
       "version_minor": 0
      },
      "text/plain": [
       "config.json:   0%|          | 0.00/625 [00:00<?, ?B/s]"
      ]
     },
     "metadata": {},
     "output_type": "display_data"
    },
    {
     "data": {
      "application/vnd.jupyter.widget-view+json": {
       "model_id": "023ec31c1a974aa7943d876ca7fe0401",
       "version_major": 2,
       "version_minor": 0
      },
      "text/plain": [
       "vocab.txt:   0%|          | 0.00/996k [00:00<?, ?B/s]"
      ]
     },
     "metadata": {},
     "output_type": "display_data"
    },
    {
     "data": {
      "application/vnd.jupyter.widget-view+json": {
       "model_id": "bf7fc6f552e444f3bc8ff4b3fed74e24",
       "version_major": 2,
       "version_minor": 0
      },
      "text/plain": [
       "tokenizer.json:   0%|          | 0.00/1.96M [00:00<?, ?B/s]"
      ]
     },
     "metadata": {},
     "output_type": "display_data"
    },
    {
     "name": "stderr",
     "output_type": "stream",
     "text": [
      "Xet Storage is enabled for this repo, but the 'hf_xet' package is not installed. Falling back to regular HTTP download. For better performance, install the package with: `pip install huggingface_hub[hf_xet]` or `pip install hf_xet`\n"
     ]
    },
    {
     "data": {
      "application/vnd.jupyter.widget-view+json": {
       "model_id": "69497f5d1b78454c9ce636688476a4e7",
       "version_major": 2,
       "version_minor": 0
      },
      "text/plain": [
       "model.safetensors:   0%|          | 0.00/714M [00:00<?, ?B/s]"
      ]
     },
     "metadata": {},
     "output_type": "display_data"
    },
    {
     "name": "stdout",
     "output_type": "stream",
     "text": [
      "Prediction: Background: The image shows a bed with a cat on it and a white wall with pink squares.\n",
      "    Answer: Ya, mira, este meme es una talla clásica sobre cómo percibimos las cosas de manera súper diferente. Es como cuando una mina que es toda aesthetic te invita a su pieza, y ella la ve como un lugar bacán, lleno de color rosado, peluches, y toda la onda kawaii, ¿cachái? Pero, uno la ve y se siente como en una celda acolchada de un psiquiátrico, todo blanco y vacío, como para volverse loco.\n",
      " Normed ED: 0.8530927835051546\n",
      " BERTScore F1: 0.6516\n",
      "Prediction: Assistant: En este meme, se dice que hay que ser más inteligible\n",
      "    Answer: Jajaja, este meme es típico de cuando se viene el Año Nuevo y uno ya sabe que la cosa se va a poner buena. Básicamente, el compadre está diciendo que prefiere desear feliz año ahora mismo porque en la noche va a estar medio pasado de copas, o sea, curado. Es como asumir que la celebración va a ser potente y mejor asegurarse con los buenos deseos antes de que se descontrole la cosa. ¡Salud! 🍻\n",
      " Normed ED: 0.8730964467005076\n",
      " BERTScore F1: 0.6688\n"
     ]
    },
    {
     "name": "stderr",
     "output_type": "stream",
     "text": [
      "\n",
      "Detected KeyboardInterrupt, attempting graceful shutdown ...\n"
     ]
    }
   ],
   "source": [
    "%%time\n",
    "\n",
    "wandb_logger = WandbLogger(\n",
    "    project=WANDB_PROJECT\n",
    ")\n",
    "\n",
    "checkpoint_callback = ModelCheckpoint(\n",
    "    monitor=\"val_bertscore_f1\",  \n",
    "    mode=\"max\",                   \n",
    "    save_top_k=1,                 \n",
    "    verbose=True,\n",
    "    filename=\"best-checkpoint-{epoch:02d}-{val_bertscore_f1:.4f}\"\n",
    ")\n",
    "\n",
    "trainer = L.Trainer(\n",
    "        accelerator=\"gpu\",\n",
    "        devices=[0],\n",
    "        max_epochs=config.get(\"max_epochs\"),\n",
    "        val_check_interval=config.get(\"val_check_interval\"),\n",
    "        accumulate_grad_batches=config.get(\"accumulate_grad_batches\"),\n",
    "        check_val_every_n_epoch=config.get(\"check_val_every_n_epoch\"),\n",
    "        gradient_clip_val=config.get(\"gradient_clip_val\"),\n",
    "        precision=\"16-mixed\",\n",
    "        limit_val_batches=70,\n",
    "        num_sanity_val_steps=0,\n",
    "        logger=wandb_logger,\n",
    "        callbacks=[\n",
    "            #PushToHubCallback(),\n",
    "            early_stop_callback,\n",
    "            checkpoint_callback\n",
    "        ],\n",
    ")\n",
    "\n",
    "trainer.fit(model_module)"
   ]
  },
  {
   "cell_type": "markdown",
   "id": "e634da9f-7f9b-4faa-b1db-95777d9bc480",
   "metadata": {},
   "source": [
    "### Save Best Model"
   ]
  },
  {
   "cell_type": "code",
   "execution_count": 41,
   "id": "e9df04a5-5cb4-4992-80a4-e5626c6beeab",
   "metadata": {},
   "outputs": [],
   "source": [
    "checkpoint = trainer.checkpoint_callback.best_model_path"
   ]
  },
  {
   "cell_type": "code",
   "execution_count": 43,
   "id": "be7f9f3d-ba37-4425-abd0-ae23d91c0d7c",
   "metadata": {},
   "outputs": [
    {
     "data": {
      "text/plain": [
       "'./LLaVaNeXTMemes/5vkvok30/checkpoints/best-checkpoint-epoch=01-val_edit_distance=0.69.ckpt'"
      ]
     },
     "execution_count": 43,
     "metadata": {},
     "output_type": "execute_result"
    }
   ],
   "source": [
    "checkpoint"
   ]
  },
  {
   "cell_type": "code",
   "execution_count": 44,
   "id": "e18b3be4-ddbd-42dd-b090-7f0981bb512d",
   "metadata": {},
   "outputs": [],
   "source": [
    "model_module = SmolModelPLModule.load_from_checkpoint(\n",
    "    checkpoint,\n",
    "    config=config,\n",
    "    processor=processor,\n",
    "    model=model\n",
    ")"
   ]
  },
  {
   "cell_type": "code",
   "execution_count": 45,
   "id": "6d32e674-f64a-4e54-ad15-041012c86291",
   "metadata": {},
   "outputs": [
    {
     "data": {
      "application/vnd.jupyter.widget-view+json": {
       "model_id": "3cafaaeda786481f99cb8c6e21cca7b3",
       "version_major": 2,
       "version_minor": 0
      },
      "text/plain": [
       "README.md:   0%|          | 0.00/5.17k [00:00<?, ?B/s]"
      ]
     },
     "metadata": {},
     "output_type": "display_data"
    },
    {
     "data": {
      "application/vnd.jupyter.widget-view+json": {
       "model_id": "ac7d76ae98ba435ca2a7427e282fd0e9",
       "version_major": 2,
       "version_minor": 0
      },
      "text/plain": [
       "adapter_model.safetensors:   0%|          | 0.00/88.7M [00:00<?, ?B/s]"
      ]
     },
     "metadata": {},
     "output_type": "display_data"
    },
    {
     "data": {
      "text/plain": [
       "CommitInfo(commit_url='https://huggingface.co/AndresSebad/llava-v1.6-mistral-7b-memes-chilenos-small/commit/11c92b0e4781c1f99feafe948a329c94fa98aa72', commit_message='Mejor modelo subido a HF.', commit_description='', oid='11c92b0e4781c1f99feafe948a329c94fa98aa72', pr_url=None, repo_url=RepoUrl('https://huggingface.co/AndresSebad/llava-v1.6-mistral-7b-memes-chilenos-small', endpoint='https://huggingface.co', repo_type='model', repo_id='AndresSebad/llava-v1.6-mistral-7b-memes-chilenos-small'), pr_revision=None, pr_num=None)"
      ]
     },
     "execution_count": 45,
     "metadata": {},
     "output_type": "execute_result"
    }
   ],
   "source": [
    "model_module.model.push_to_hub(REPO_ID, commit_message=f\"Mejor modelo subido a HF.\")"
   ]
  },
  {
   "cell_type": "markdown",
   "id": "f46efccb-8c9e-497e-ab5b-ee7a3408f3f4",
   "metadata": {},
   "source": [
    "## Test"
   ]
  },
  {
   "cell_type": "code",
   "execution_count": 46,
   "id": "a483916e-8a3b-4cfd-85ff-f142f8cb876a",
   "metadata": {},
   "outputs": [
    {
     "data": {
      "application/vnd.jupyter.widget-view+json": {
       "model_id": "34d1f848a22d49df8af4e05b92e915b6",
       "version_major": 2,
       "version_minor": 0
      },
      "text/plain": [
       "Loading checkpoint shards:   0%|          | 0/4 [00:00<?, ?it/s]"
      ]
     },
     "metadata": {},
     "output_type": "display_data"
    },
    {
     "data": {
      "application/vnd.jupyter.widget-view+json": {
       "model_id": "22d99aac44564100b8493ee4da4e3679",
       "version_major": 2,
       "version_minor": 0
      },
      "text/plain": [
       "adapter_config.json:   0%|          | 0.00/999 [00:00<?, ?B/s]"
      ]
     },
     "metadata": {},
     "output_type": "display_data"
    },
    {
     "data": {
      "application/vnd.jupyter.widget-view+json": {
       "model_id": "0dbaeb1b5c6f4dfe9aed6be724dbbb3c",
       "version_major": 2,
       "version_minor": 0
      },
      "text/plain": [
       "adapter_model.safetensors:   0%|          | 0.00/88.7M [00:00<?, ?B/s]"
      ]
     },
     "metadata": {},
     "output_type": "display_data"
    }
   ],
   "source": [
    "model_nuevo = Idefics3ForConditionalGeneration.from_pretrained(\n",
    "    MODEL_ID,\n",
    "    torch_dtype=torch.float16\n",
    ")\n",
    "\n",
    "model_nuevo = PeftModel.from_pretrained(model_nuevo, \"AndresSebad/smol-vlm-memes-chilenos-small\")\n",
    "model_nuevo = model_nuevo.to(\"cuda\")"
   ]
  },
  {
   "cell_type": "code",
   "execution_count": 47,
   "id": "585dadd9-f440-4838-9536-98efd65ecf67",
   "metadata": {},
   "outputs": [
    {
     "data": {
      "application/vnd.jupyter.widget-view+json": {
       "model_id": "7cee3467ef1842b283ed08e530109835",
       "version_major": 2,
       "version_minor": 0
      },
      "text/plain": [
       "Loading checkpoint shards:   0%|          | 0/4 [00:00<?, ?it/s]"
      ]
     },
     "metadata": {},
     "output_type": "display_data"
    }
   ],
   "source": [
    "processor = AutoProcessor.from_pretrained(MODEL_ID)\n",
    "\n",
    "model_original = Idefics3ForConditionalGeneration.from_pretrained(\n",
    "    MODEL_ID,\n",
    "    torch_dtype=torch.float16\n",
    ").to(\"cuda\")"
   ]
  },
  {
   "cell_type": "code",
   "execution_count": 59,
   "id": "17ed4c38-882f-445b-a57d-e3211b79d1ab",
   "metadata": {},
   "outputs": [],
   "source": [
    "URL_INSTAGRAM = \"\"\"\n",
    "https://instagram.fscl35-1.fna.fbcdn.net/v/t51.2885-15/491449152_18265505524275313_1039743486705849431_n.webp?efg=eyJ2ZW5jb2RlX3RhZyI6IkZFRUQuaW1hZ2VfdXJsZ2VuLjE0NDB4MTQ0MC5zZHIuZjc1NzYxLmRlZmF1bHRfaW1hZ2UifQ&_nc_ht=instagram.fscl35-1.fna.fbcdn.net&_nc_cat=101&_nc_oc=Q6cZ2QE12rCQgLnMKGV9K7FcDjB-RxnZJD2sTb8pefszwyJ57SO-LUBJVpEvmNiSjWlHWbA&_nc_ohc=J6-I7YA1Jx4Q7kNvwFYDUci&_nc_gid=YxKQWTDQ_TW12X4XYuexZw&edm=APoiHPcBAAAA&ccb=7-5&ig_cache_key=MzYyMTQ5NDY3MzMyODY2NjA4Mg%3D%3D.3-ccb7-5&oh=00_AfH-op5otNpDhjIW2mVA0Bw696QB4IusU7zizUqUW_TSzA&oe=681B813A&_nc_sid=22de04\n",
    "\"\"\"\n",
    "# Descargar la imagen HEIC en memoria\n",
    "try:\n",
    "    resp = requests.get(URL_INSTAGRAM)\n",
    "    resp.raise_for_status()\n",
    "    img_bytes = io.BytesIO(resp.content)\n",
    "    img = PILImage.open(img_bytes)\n",
    "    img = img.convert('RGB')\n",
    "    img = img.resize((336, 336))\n",
    "except requests.exceptions.RequestException as e:\n",
    "    print(f\"Error al descargar la imagen: {e}\")"
   ]
  },
  {
   "cell_type": "code",
   "execution_count": 60,
   "id": "a5a177a8-b0c1-49f4-928f-c8f8854f28bb",
   "metadata": {},
   "outputs": [
    {
     "data": {
      "image/jpeg": "[encoded data removed]",
      "image/png": "[encoded data removed]",
      "text/plain": [
       "<PIL.Image.Image image mode=RGB size=336x336>"
      ]
     },
     "execution_count": 60,
     "metadata": {},
     "output_type": "execute_result"
    }
   ],
   "source": [
    "img"
   ]
  },
  {
   "cell_type": "code",
   "execution_count": 61,
   "id": "6d558f5f-9523-41e0-ab15-3a34124b3792",
   "metadata": {},
   "outputs": [],
   "source": [
    "conversation = [\n",
    "            {\n",
    "                \"role\": \"user\",\n",
    "                \"content\": [\n",
    "                    {\"type\": \"image\"},\n",
    "                    {\"type\": \"text\", \"text\": \"Si hay texto en la imagen, entiende su significado sin repetirlo. Observa también la imagen. Explica qué significa este meme en Chile, usando lenguaje coloquial chileno.\"},\n",
    "                ],\n",
    "            }\n",
    "]\n",
    "\n",
    "text_prompt = processor.apply_chat_template(conversation, add_generation_prompt=True)\n",
    "batch = processor(text=text_prompt, images=[img], return_tensors=\"pt\").to(\"cuda\")\n",
    "\n",
    "input_ids = batch[\"input_ids\"]\n",
    "attention_mask = batch[\"attention_mask\"]\n",
    "pixel_values = batch[\"pixel_values\"]"
   ]
  },
  {
   "cell_type": "code",
   "execution_count": 62,
   "id": "82f4d3f0-2fa3-46e3-914f-1e6995a04b24",
   "metadata": {},
   "outputs": [
    {
     "name": "stderr",
     "output_type": "stream",
     "text": [
      "Setting `pad_token_id` to `eos_token_id`:2 for open-end generation.\n"
     ]
    }
   ],
   "source": [
    "generated_ids_original = model_original.generate(input_ids=input_ids, attention_mask=attention_mask,\n",
    "                                    pixel_values=pixel_values, max_new_tokens=MAX_LENGTH)"
   ]
  },
  {
   "cell_type": "code",
   "execution_count": 63,
   "id": "8c226de7-b0d6-4454-92ad-636ccc46cd19",
   "metadata": {},
   "outputs": [
    {
     "name": "stderr",
     "output_type": "stream",
     "text": [
      "Setting `pad_token_id` to `eos_token_id`:2 for open-end generation.\n"
     ]
    }
   ],
   "source": [
    "generated_ids_nuevo = model_nuevo.generate(\n",
    "    input_ids=input_ids,\n",
    "    attention_mask=attention_mask,\n",
    "    pixel_values=pixel_values,\n",
    "    max_new_tokens=MAX_LENGTH,\n",
    "    #no_repeat_ngram_size=3         # evita repetir frases de 3 palabras\n",
    ")"
   ]
  },
  {
   "cell_type": "code",
   "execution_count": 64,
   "id": "f18bfe57-240c-4379-bf9d-fa8cc40b31d5",
   "metadata": {},
   "outputs": [],
   "source": [
    "predictions_original = processor.batch_decode(generated_ids_original[:, input_ids.size(1):], skip_special_tokens=True)\n",
    "predictions_nuevo = processor.batch_decode(generated_ids_nuevo[:, input_ids.size(1):], skip_special_tokens=True)"
   ]
  },
  {
   "cell_type": "code",
   "execution_count": 65,
   "id": "81cdb566-2eb9-4071-84e8-5b9495f41262",
   "metadata": {},
   "outputs": [
    {
     "data": {
      "text/plain": [
       "'Este meme en Chile se refiere a las empresas mineras en Chile, que son una parte importante de la economía del país. La frase \"tanta mina rica\" es una expresión coloquial que se utiliza para describir a alguien que es muy rico o tiene mucho dinero.\\n\\nEn este meme, se utiliza la expresión para describir a las empresas mineras, sugeriendo que estas empresas tienen mucho dinero y que están muy ricas. La imagen de un hombre con una barba y una camisa blanca, que se utiliza como un logotipo, es una forma de representar a las empresas mineras, que a menudo son dirigidas por hombres de negocios con una apariencia similar.\\n\\nLa frase \"Se refiere a las empresas mineras en Chile\" indica que el meme está relacionado con la industria minera en Chile, que es una de las principales fuentes de ingresos del país. La frase \"en Chile\" es una forma de especificar que el mem'"
      ]
     },
     "execution_count": 65,
     "metadata": {},
     "output_type": "execute_result"
    }
   ],
   "source": [
    "predictions_original[0]"
   ]
  },
  {
   "cell_type": "code",
   "execution_count": 66,
   "id": "f60eda24-fd48-4e88-ab2b-a03361334309",
   "metadata": {},
   "outputs": [
    {
     "data": {
      "text/plain": [
       "'Este meme está buenísimo, mezcla humor absurdo con crítica social. Aparece el expresidente Boric con cara seria, y el texto dice: \"Tan mina rica, se refiere a las empresas mineras en Chile\". La talla va directo al poder y la influencia de las empresas mineras en el país, como si estuvieran tratando de controlar todo.'"
      ]
     },
     "execution_count": 66,
     "metadata": {},
     "output_type": "execute_result"
    }
   ],
   "source": [
    "predictions_nuevo[0]"
   ]
  }
 ],
 "metadata": {
  "kernelspec": {
   "display_name": "Python 3 (ipykernel)",
   "language": "python",
   "name": "python3"
  },
  "language_info": {
   "codemirror_mode": {
    "name": "ipython",
    "version": 3
   },
   "file_extension": ".py",
   "mimetype": "text/x-python",
   "name": "python",
   "nbconvert_exporter": "python",
   "pygments_lexer": "ipython3",
   "version": "3.9.5"
  }
 },
 "nbformat": 4,
 "nbformat_minor": 5
}
