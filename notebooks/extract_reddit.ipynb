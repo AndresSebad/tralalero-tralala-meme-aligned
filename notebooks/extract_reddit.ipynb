{
 "cells": [
  {
   "cell_type": "code",
   "execution_count": 72,
   "metadata": {},
   "outputs": [],
   "source": [
    "from dotenv import load_dotenv\n",
    "import os\n",
    "import praw\n",
    "import json\n",
    "\n",
    "from openai import OpenAI\n",
    "client = OpenAI()\n",
    "\n",
    "load_dotenv()\n",
    "\n",
    "CLIENT_ID_REDDIT = os.getenv(\"CLIENT_ID_REDDIT\")\n",
    "CLIENT_SECRET_REDDIT = os.getenv(\"SECRET_KEY_REDDIT\")\n",
    "REDDIT_USERNAME = os.getenv(\"REDDIT_USERNAME\")\n",
    "REDDIT_PASSWORD = os.getenv(\"REDDIT_PASSWORD\")\n",
    "COHERE_API_KEY = os.getenv(\"COHERE_API_KEY\")\n",
    "\n",
    "import cohere\n",
    "\n",
    "co = cohere.ClientV2(api_key=os.getenv(\"COHERE_API_KEY\"))"
   ]
  },
  {
   "cell_type": "code",
   "execution_count": 73,
   "metadata": {},
   "outputs": [],
   "source": [
    "def crear_reddit():\n",
    "    reddit = praw.Reddit(\n",
    "        client_id=CLIENT_ID_REDDIT,\n",
    "        client_secret=CLIENT_SECRET_REDDIT,\n",
    "        username=REDDIT_USERNAME,\n",
    "        password=REDDIT_PASSWORD,\n",
    "        user_agent=\"testscript by u/ProudPeace6162\"\n",
    "    )\n",
    "    return reddit"
   ]
  },
  {
   "cell_type": "code",
   "execution_count": 96,
   "metadata": {},
   "outputs": [],
   "source": [
    "def generar_instruction_gpt(texto_contextual):\n",
    "    prompt = (\n",
    "        f\"A partir del siguiente post y comentarios, genera un ejemplo de instruction tuning para un modelo de lenguaje.\\n\"\n",
    "        f\"Este ejemplo debe estar basado directamente en el contenido del texto entregado y reflejar algún aspecto de la cultura chilena cotidiana, popular o social.\\n\"\n",
    "        f\"Devuelve directamente un JSON plano, sin usar markdown ni comillas triples.\\n\"\n",
    "        f\"Debe incluir los campos: 'instruction', 'input' (vacío), y 'output'.\\n\"\n",
    "        f\"Usa lenguaje claro, directo, sin exagerar.\\n\\n\"\n",
    "        f\"Texto: {texto_contextual}\\n\"\n",
    "    )\n",
    "\n",
    "    response = client.chat.completions.create(\n",
    "        model=\"gpt-4o\",\n",
    "        messages=[\n",
    "            {\"role\": \"system\", \"content\": \"Eres un chileno que ayuda a explicar expresiones y situaciones culturales locales sin exagerar.\"},\n",
    "            {\"role\": \"user\", \"content\": prompt}\n",
    "        ],\n",
    "        temperature=0.7,\n",
    "        max_tokens=300\n",
    "    )\n",
    "\n",
    "    content = response.choices[0].message.content.strip()\n",
    "\n",
    "    result = json.loads(content)\n",
    "    return result\n",
    "\n",
    "def generar_instruction_cohere_v2(texto_contextual):\n",
    "    prompt = (\n",
    "        f\"A partir del siguiente post y comentarios, genera un ejemplo de instruction tuning para un modelo de lenguaje.\\n\"\n",
    "        f\"Este ejemplo debe estar basado directamente en el contenido del texto entregado y reflejar algún aspecto de la cultura chilena cotidiana, popular o social.\\n\"\n",
    "        f\"Devuelve directamente un JSON plano, sin usar markdown ni comillas triples.\\n\"\n",
    "        f\"Debe incluir los campos: 'instruction', 'input' (vacío), y 'output'.\\n\"\n",
    "        f\"Usa lenguaje claro, directo, sin exagerar y no menciones el post.\\n\\n\"\n",
    "        f\"Texto: {texto_contextual}\"\n",
    "    )\n",
    "\n",
    "    response = co.chat(\n",
    "        model=\"command-a-03-2025\",\n",
    "        messages=[\n",
    "            {\"role\": \"system\", \"content\": \"Eres un chileno que explica situaciones culturales locales sin exagerar.\"},\n",
    "            {\"role\": \"user\", \"content\": prompt}\n",
    "        ]\n",
    "    )\n",
    "\n",
    "    content = response.message.content[0].text\n",
    "\n",
    "    try:\n",
    "        return json.loads(content)\n",
    "    except json.JSONDecodeError:\n",
    "        print(\"Error al parsear el JSON:\")\n",
    "        print(content)\n",
    "        return None"
   ]
  },
  {
   "cell_type": "code",
   "execution_count": 99,
   "metadata": {},
   "outputs": [],
   "source": [
    "def extraer_contenido_rchile(n):\n",
    "    reddit = crear_reddit()\n",
    "    subreddit = reddit.subreddit(\"chile\")\n",
    "    posts = []\n",
    "    for post in subreddit.hot(limit=n):\n",
    "        if post.is_self and post.selftext: # Solo posts de texto\n",
    "            cuerpo_post = f\"Texto: {post.title.strip()} {post.selftext.strip()[:300]}\"\n",
    "            comentarios = []\n",
    "            post.comments.replace_more(limit=0) # Cargar todos los comentarios\n",
    "            for comment in post.comments[:5]:\n",
    "                comentarios.append(comment.body.strip()[:30])\n",
    "            if comentarios:\n",
    "                cuerpo_post += \"\\nComentarios del post:\\n\" + \"\\n\".join(comentarios)\n",
    "            posts.append(cuerpo_post)\n",
    "    return posts\n",
    "\n",
    "def construir_dataset_instruct(n_ejemplos=10):\n",
    "    textos = extraer_contenido_rchile(n_ejemplos)\n",
    "    dataset = []\n",
    "    for texto in textos:\n",
    "        resultado = generar_instruction_cohere_v2(texto)\n",
    "        if resultado['instruction'] and resultado['output']:\n",
    "            dataset.append(resultado)\n",
    "\n",
    "    return dataset"
   ]
  },
  {
   "cell_type": "code",
   "execution_count": 101,
   "metadata": {},
   "outputs": [],
   "source": [
    "dataset = construir_dataset_instruct(n_ejemplos=4)"
   ]
  },
  {
   "cell_type": "code",
   "execution_count": 102,
   "metadata": {},
   "outputs": [
    {
     "data": {
      "text/plain": [
       "[{'instruction': \"Explica el uso de la palabra 'talla' en el contexto de la conversación informal en Chile.\",\n",
       "  'input': '',\n",
       "  'output': \"En Chile, la palabra 'talla' se utiliza comúnmente para referirse a una broma, chiste o comentario divertido. En el contexto del comentario, 'las tallas de los simp' se refiere probablemente a las bromas o comentarios humorísticos que hacen las personas consideradas 'simpáticas' o divertidas. Es una forma coloquial de hablar de humor y entretenimiento en conversaciones informales.\"},\n",
       " {'instruction': 'Explica una situación laboral típica en Chile, donde un empleador despide a sus trabajadores pero luego se arrepiente y los reincorpora, generando incertidumbre y posibles conflictos legales.',\n",
       "  'input': '',\n",
       "  'output': 'En Chile, es común que las relaciones laborales estén marcadas por la informalidad y la falta de claridad. En este caso, un grupo de trabajadores con contratos indefinidos recibió cartas de despido con un cálculo de indemnización. Sin embargo, poco después, la empresa se retractó y decidió reincorporarlos, prometiendo anular las cartas de despido. Esta situación genera incertidumbre y desconfianza entre los trabajadores, quienes deben considerar asesorarse legalmente para proteger sus derechos. Es importante conservar la carta de despido como prueba y evaluar opciones para asegurar una compensación justa o una reincorporación en términos claros y justos.'}]"
      ]
     },
     "execution_count": 102,
     "metadata": {},
     "output_type": "execute_result"
    }
   ],
   "source": [
    "dataset"
   ]
  }
 ],
 "metadata": {
  "kernelspec": {
   "display_name": ".venv",
   "language": "python",
   "name": "python3"
  },
  "language_info": {
   "codemirror_mode": {
    "name": "ipython",
    "version": 3
   },
   "file_extension": ".py",
   "mimetype": "text/x-python",
   "name": "python",
   "nbconvert_exporter": "python",
   "pygments_lexer": "ipython3",
   "version": "3.9.6"
  }
 },
 "nbformat": 4,
 "nbformat_minor": 2
}
