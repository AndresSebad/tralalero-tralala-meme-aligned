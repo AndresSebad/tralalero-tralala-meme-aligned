{
 "cells": [
  {
   "cell_type": "code",
   "execution_count": 2,
   "metadata": {},
   "outputs": [],
   "source": [
    "from datasets import Dataset, DatasetDict, load_from_disk, load_dataset, concatenate_datasets\n",
    "from PIL import Image\n",
    "import pillow_heif\n",
    "import requests\n",
    "import math\n",
    "import openai\n",
    "import tqdm\n",
    "\n",
    "import pandas as pd\n",
    "\n",
    "import os\n",
    "import io\n",
    "\n",
    "from dotenv import load_dotenv\n",
    "\n",
    "load_dotenv()\n",
    "\n",
    "client = openai.OpenAI()"
   ]
  },
  {
   "cell_type": "code",
   "execution_count": 3,
   "metadata": {},
   "outputs": [],
   "source": [
    "df_publicaciones = pd.read_excel('../data/dataset_correction_adicionales.xlsx')"
   ]
  },
  {
   "cell_type": "code",
   "execution_count": 4,
   "metadata": {},
   "outputs": [
    {
     "data": {
      "text/html": [
       "<div>\n",
       "<style scoped>\n",
       "    .dataframe tbody tr th:only-of-type {\n",
       "        vertical-align: middle;\n",
       "    }\n",
       "\n",
       "    .dataframe tbody tr th {\n",
       "        vertical-align: top;\n",
       "    }\n",
       "\n",
       "    .dataframe thead th {\n",
       "        text-align: right;\n",
       "    }\n",
       "</style>\n",
       "<table border=\"1\" class=\"dataframe\">\n",
       "  <thead>\n",
       "    <tr style=\"text-align: right;\">\n",
       "      <th></th>\n",
       "      <th>ruta</th>\n",
       "      <th>url</th>\n",
       "      <th>picture</th>\n",
       "      <th>multiple_choice_answer</th>\n",
       "      <th>val</th>\n",
       "    </tr>\n",
       "  </thead>\n",
       "  <tbody>\n",
       "    <tr>\n",
       "      <th>0</th>\n",
       "      <td>../data/raw/496742632_1221674859677067_5987527...</td>\n",
       "      <td>https://scontent-ord5-2.cdninstagram.com/v/t51...</td>\n",
       "      <td>NaN</td>\n",
       "      <td>Este meme muestra a alguien rodeado de comida ...</td>\n",
       "      <td>False</td>\n",
       "    </tr>\n",
       "    <tr>\n",
       "      <th>1</th>\n",
       "      <td>../data/raw/495534946_655025597422524_20853943...</td>\n",
       "      <td>https://instagram.ficn7-1.fna.fbcdn.net/v/t51....</td>\n",
       "      <td>NaN</td>\n",
       "      <td>Este meme muestra al típico maestro sabio de p...</td>\n",
       "      <td>False</td>\n",
       "    </tr>\n",
       "    <tr>\n",
       "      <th>2</th>\n",
       "      <td>../data/raw/495839342_1395247321810626_3345731...</td>\n",
       "      <td>https://scontent-lhr8-2.cdninstagram.com/v/t51...</td>\n",
       "      <td>NaN</td>\n",
       "      <td>Es una chimenea echando humo, como cuando elig...</td>\n",
       "      <td>False</td>\n",
       "    </tr>\n",
       "    <tr>\n",
       "      <th>3</th>\n",
       "      <td>../data/raw/485648693_17957093216914567_912986...</td>\n",
       "      <td>https://instagram.fnbe1-2.fna.fbcdn.net/v/t51....</td>\n",
       "      <td>NaN</td>\n",
       "      <td>Aparece un viejito tipo mago o sabio medieval ...</td>\n",
       "      <td>False</td>\n",
       "    </tr>\n",
       "    <tr>\n",
       "      <th>4</th>\n",
       "      <td>../data/raw/496723059_1481102066184412_8508794...</td>\n",
       "      <td>https://scontent-mia5-1.cdninstagram.com/v/t51...</td>\n",
       "      <td>NaN</td>\n",
       "      <td>El meme muestra a un joven dentro de un auto, ...</td>\n",
       "      <td>False</td>\n",
       "    </tr>\n",
       "    <tr>\n",
       "      <th>...</th>\n",
       "      <td>...</td>\n",
       "      <td>...</td>\n",
       "      <td>...</td>\n",
       "      <td>...</td>\n",
       "      <td>...</td>\n",
       "    </tr>\n",
       "    <tr>\n",
       "      <th>69</th>\n",
       "      <td>../data/raw/470973571_1108056314187111_8161240...</td>\n",
       "      <td>https://scontent-iad3-2.cdninstagram.com/v/t51...</td>\n",
       "      <td>NaN</td>\n",
       "      <td>Muestra una ilustración estilo fantasía mediev...</td>\n",
       "      <td>False</td>\n",
       "    </tr>\n",
       "    <tr>\n",
       "      <th>70</th>\n",
       "      <td>../data/raw/470471491_17945219873914567_703002...</td>\n",
       "      <td>https://scontent-ord5-3.cdninstagram.com/v/t51...</td>\n",
       "      <td>NaN</td>\n",
       "      <td>Este meme refleja perfecto la sensación de cho...</td>\n",
       "      <td>False</td>\n",
       "    </tr>\n",
       "    <tr>\n",
       "      <th>71</th>\n",
       "      <td>../data/raw/469894424_17944890755914567_793627...</td>\n",
       "      <td>https://scontent-atl3-3.cdninstagram.com/v/t51...</td>\n",
       "      <td>NaN</td>\n",
       "      <td>Este meme parte con la portada real del álbum ...</td>\n",
       "      <td>False</td>\n",
       "    </tr>\n",
       "    <tr>\n",
       "      <th>72</th>\n",
       "      <td>../data/raw/469714815_17944358990914567_871618...</td>\n",
       "      <td>https://instagram.fbek1-5.fna.fbcdn.net/v/t51....</td>\n",
       "      <td>NaN</td>\n",
       "      <td>Este meme muestra a un caballero medieval sent...</td>\n",
       "      <td>False</td>\n",
       "    </tr>\n",
       "    <tr>\n",
       "      <th>73</th>\n",
       "      <td>../data/raw/500629971_18303818878243547_253463...</td>\n",
       "      <td>https://instagram.fscl6-1.fna.fbcdn.net/v/t51....</td>\n",
       "      <td>NaN</td>\n",
       "      <td>Este meme muestra a un perrito con un abrigo b...</td>\n",
       "      <td>False</td>\n",
       "    </tr>\n",
       "  </tbody>\n",
       "</table>\n",
       "<p>74 rows × 5 columns</p>\n",
       "</div>"
      ],
      "text/plain": [
       "                                                 ruta  \\\n",
       "0   ../data/raw/496742632_1221674859677067_5987527...   \n",
       "1   ../data/raw/495534946_655025597422524_20853943...   \n",
       "2   ../data/raw/495839342_1395247321810626_3345731...   \n",
       "3   ../data/raw/485648693_17957093216914567_912986...   \n",
       "4   ../data/raw/496723059_1481102066184412_8508794...   \n",
       "..                                                ...   \n",
       "69  ../data/raw/470973571_1108056314187111_8161240...   \n",
       "70  ../data/raw/470471491_17945219873914567_703002...   \n",
       "71  ../data/raw/469894424_17944890755914567_793627...   \n",
       "72  ../data/raw/469714815_17944358990914567_871618...   \n",
       "73  ../data/raw/500629971_18303818878243547_253463...   \n",
       "\n",
       "                                                  url  picture  \\\n",
       "0   https://scontent-ord5-2.cdninstagram.com/v/t51...      NaN   \n",
       "1   https://instagram.ficn7-1.fna.fbcdn.net/v/t51....      NaN   \n",
       "2   https://scontent-lhr8-2.cdninstagram.com/v/t51...      NaN   \n",
       "3   https://instagram.fnbe1-2.fna.fbcdn.net/v/t51....      NaN   \n",
       "4   https://scontent-mia5-1.cdninstagram.com/v/t51...      NaN   \n",
       "..                                                ...      ...   \n",
       "69  https://scontent-iad3-2.cdninstagram.com/v/t51...      NaN   \n",
       "70  https://scontent-ord5-3.cdninstagram.com/v/t51...      NaN   \n",
       "71  https://scontent-atl3-3.cdninstagram.com/v/t51...      NaN   \n",
       "72  https://instagram.fbek1-5.fna.fbcdn.net/v/t51....      NaN   \n",
       "73  https://instagram.fscl6-1.fna.fbcdn.net/v/t51....      NaN   \n",
       "\n",
       "                               multiple_choice_answer    val  \n",
       "0   Este meme muestra a alguien rodeado de comida ...  False  \n",
       "1   Este meme muestra al típico maestro sabio de p...  False  \n",
       "2   Es una chimenea echando humo, como cuando elig...  False  \n",
       "3   Aparece un viejito tipo mago o sabio medieval ...  False  \n",
       "4   El meme muestra a un joven dentro de un auto, ...  False  \n",
       "..                                                ...    ...  \n",
       "69  Muestra una ilustración estilo fantasía mediev...  False  \n",
       "70  Este meme refleja perfecto la sensación de cho...  False  \n",
       "71  Este meme parte con la portada real del álbum ...  False  \n",
       "72  Este meme muestra a un caballero medieval sent...  False  \n",
       "73  Este meme muestra a un perrito con un abrigo b...  False  \n",
       "\n",
       "[74 rows x 5 columns]"
      ]
     },
     "execution_count": 4,
     "metadata": {},
     "output_type": "execute_result"
    }
   ],
   "source": [
    "df_publicaciones"
   ]
  },
  {
   "cell_type": "code",
   "execution_count": 5,
   "metadata": {},
   "outputs": [
    {
     "name": "stderr",
     "output_type": "stream",
     "text": [
      "  0%|          | 0/74 [00:00<?, ?it/s]"
     ]
    },
    {
     "name": "stdout",
     "output_type": "stream",
     "text": [
      "-> Esta llamada usó 213 prompt tokens + 171 completion tokens = $0.002243 USD\n",
      "==> Gasto acumulado: $0.002243 USD\n",
      "-> Esta llamada usó 211 prompt tokens + 180 completion tokens = $0.002328 USD\n",
      "==> Gasto acumulado: $0.004570 USD\n"
     ]
    },
    {
     "name": "stderr",
     "output_type": "stream",
     "text": [
      "  1%|▏         | 1/74 [00:13<16:18, 13.41s/it]"
     ]
    },
    {
     "name": "stdout",
     "output_type": "stream",
     "text": [
      "-> Esta llamada usó 216 prompt tokens + 136 completion tokens = $0.001900 USD\n",
      "==> Gasto acumulado: $0.006470 USD\n",
      "-> Esta llamada usó 234 prompt tokens + 157 completion tokens = $0.002155 USD\n",
      "==> Gasto acumulado: $0.008625 USD\n",
      "-> Esta llamada usó 232 prompt tokens + 158 completion tokens = $0.002160 USD\n",
      "==> Gasto acumulado: $0.010785 USD\n"
     ]
    },
    {
     "name": "stderr",
     "output_type": "stream",
     "text": [
      "  3%|▎         | 2/74 [00:24<14:46, 12.31s/it]"
     ]
    },
    {
     "name": "stdout",
     "output_type": "stream",
     "text": [
      "-> Esta llamada usó 237 prompt tokens + 160 completion tokens = $0.002193 USD\n",
      "==> Gasto acumulado: $0.012978 USD\n",
      "-> Esta llamada usó 152 prompt tokens + 108 completion tokens = $0.001460 USD\n",
      "==> Gasto acumulado: $0.014438 USD\n",
      "-> Esta llamada usó 150 prompt tokens + 174 completion tokens = $0.002115 USD\n",
      "==> Gasto acumulado: $0.016553 USD\n"
     ]
    },
    {
     "name": "stderr",
     "output_type": "stream",
     "text": [
      "  4%|▍         | 3/74 [00:34<12:57, 10.95s/it]"
     ]
    },
    {
     "name": "stdout",
     "output_type": "stream",
     "text": [
      "-> Esta llamada usó 155 prompt tokens + 94 completion tokens = $0.001328 USD\n",
      "==> Gasto acumulado: $0.017880 USD\n",
      "-> Esta llamada usó 269 prompt tokens + 195 completion tokens = $0.002623 USD\n",
      "==> Gasto acumulado: $0.020502 USD\n",
      "-> Esta llamada usó 267 prompt tokens + 188 completion tokens = $0.002548 USD\n",
      "==> Gasto acumulado: $0.023050 USD\n"
     ]
    },
    {
     "name": "stderr",
     "output_type": "stream",
     "text": [
      "  5%|▌         | 4/74 [00:46<13:31, 11.60s/it]"
     ]
    },
    {
     "name": "stdout",
     "output_type": "stream",
     "text": [
      "-> Esta llamada usó 272 prompt tokens + 151 completion tokens = $0.002190 USD\n",
      "==> Gasto acumulado: $0.025240 USD\n",
      "-> Esta llamada usó 266 prompt tokens + 207 completion tokens = $0.002735 USD\n",
      "==> Gasto acumulado: $0.027975 USD\n",
      "-> Esta llamada usó 264 prompt tokens + 165 completion tokens = $0.002310 USD\n",
      "==> Gasto acumulado: $0.030285 USD\n"
     ]
    },
    {
     "name": "stderr",
     "output_type": "stream",
     "text": [
      "  7%|▋         | 5/74 [01:03<15:16, 13.29s/it]"
     ]
    },
    {
     "name": "stdout",
     "output_type": "stream",
     "text": [
      "-> Esta llamada usó 269 prompt tokens + 146 completion tokens = $0.002133 USD\n",
      "==> Gasto acumulado: $0.032418 USD\n",
      "-> Esta llamada usó 208 prompt tokens + 149 completion tokens = $0.002010 USD\n",
      "==> Gasto acumulado: $0.034427 USD\n",
      "-> Esta llamada usó 206 prompt tokens + 148 completion tokens = $0.001995 USD\n",
      "==> Gasto acumulado: $0.036422 USD\n"
     ]
    },
    {
     "name": "stderr",
     "output_type": "stream",
     "text": [
      "  8%|▊         | 6/74 [01:16<15:06, 13.33s/it]"
     ]
    },
    {
     "name": "stdout",
     "output_type": "stream",
     "text": [
      "-> Esta llamada usó 211 prompt tokens + 118 completion tokens = $0.001708 USD\n",
      "==> Gasto acumulado: $0.038130 USD\n",
      "-> Esta llamada usó 284 prompt tokens + 262 completion tokens = $0.003330 USD\n",
      "==> Gasto acumulado: $0.041460 USD\n",
      "-> Esta llamada usó 282 prompt tokens + 165 completion tokens = $0.002355 USD\n",
      "==> Gasto acumulado: $0.043815 USD\n"
     ]
    },
    {
     "name": "stderr",
     "output_type": "stream",
     "text": [
      "  9%|▉         | 7/74 [01:32<15:40, 14.03s/it]"
     ]
    },
    {
     "name": "stdout",
     "output_type": "stream",
     "text": [
      "-> Esta llamada usó 287 prompt tokens + 125 completion tokens = $0.001968 USD\n",
      "==> Gasto acumulado: $0.045782 USD\n",
      "-> Esta llamada usó 322 prompt tokens + 224 completion tokens = $0.003045 USD\n",
      "==> Gasto acumulado: $0.048827 USD\n",
      "-> Esta llamada usó 320 prompt tokens + 186 completion tokens = $0.002660 USD\n",
      "==> Gasto acumulado: $0.051487 USD\n"
     ]
    },
    {
     "name": "stderr",
     "output_type": "stream",
     "text": [
      " 11%|█         | 8/74 [01:42<14:12, 12.92s/it]"
     ]
    },
    {
     "name": "stdout",
     "output_type": "stream",
     "text": [
      "-> Esta llamada usó 325 prompt tokens + 167 completion tokens = $0.002483 USD\n",
      "==> Gasto acumulado: $0.053970 USD\n",
      "-> Esta llamada usó 196 prompt tokens + 168 completion tokens = $0.002170 USD\n",
      "==> Gasto acumulado: $0.056140 USD\n",
      "-> Esta llamada usó 194 prompt tokens + 208 completion tokens = $0.002565 USD\n",
      "==> Gasto acumulado: $0.058705 USD\n"
     ]
    },
    {
     "name": "stderr",
     "output_type": "stream",
     "text": [
      " 12%|█▏        | 9/74 [01:55<14:01, 12.95s/it]"
     ]
    },
    {
     "name": "stdout",
     "output_type": "stream",
     "text": [
      "-> Esta llamada usó 199 prompt tokens + 100 completion tokens = $0.001498 USD\n",
      "==> Gasto acumulado: $0.060202 USD\n",
      "-> Esta llamada usó 225 prompt tokens + 154 completion tokens = $0.002103 USD\n",
      "==> Gasto acumulado: $0.062305 USD\n",
      "-> Esta llamada usó 223 prompt tokens + 209 completion tokens = $0.002648 USD\n",
      "==> Gasto acumulado: $0.064952 USD\n"
     ]
    },
    {
     "name": "stderr",
     "output_type": "stream",
     "text": [
      " 14%|█▎        | 10/74 [02:11<14:48, 13.88s/it]"
     ]
    },
    {
     "name": "stdout",
     "output_type": "stream",
     "text": [
      "-> Esta llamada usó 228 prompt tokens + 149 completion tokens = $0.002060 USD\n",
      "==> Gasto acumulado: $0.067013 USD\n",
      "-> Esta llamada usó 259 prompt tokens + 240 completion tokens = $0.003048 USD\n",
      "==> Gasto acumulado: $0.070060 USD\n",
      "-> Esta llamada usó 257 prompt tokens + 133 completion tokens = $0.001973 USD\n",
      "==> Gasto acumulado: $0.072032 USD\n"
     ]
    },
    {
     "name": "stderr",
     "output_type": "stream",
     "text": [
      " 15%|█▍        | 11/74 [02:20<12:58, 12.36s/it]"
     ]
    },
    {
     "name": "stdout",
     "output_type": "stream",
     "text": [
      "-> Esta llamada usó 262 prompt tokens + 156 completion tokens = $0.002215 USD\n",
      "==> Gasto acumulado: $0.074247 USD\n",
      "-> Esta llamada usó 328 prompt tokens + 300 completion tokens = $0.003820 USD\n",
      "==> Gasto acumulado: $0.078067 USD\n",
      "-> Esta llamada usó 326 prompt tokens + 300 completion tokens = $0.003815 USD\n",
      "==> Gasto acumulado: $0.081882 USD\n"
     ]
    },
    {
     "name": "stderr",
     "output_type": "stream",
     "text": [
      " 16%|█▌        | 12/74 [02:39<14:58, 14.49s/it]"
     ]
    },
    {
     "name": "stdout",
     "output_type": "stream",
     "text": [
      "-> Esta llamada usó 331 prompt tokens + 195 completion tokens = $0.002778 USD\n",
      "==> Gasto acumulado: $0.084660 USD\n",
      "-> Esta llamada usó 259 prompt tokens + 217 completion tokens = $0.002818 USD\n",
      "==> Gasto acumulado: $0.087477 USD\n",
      "-> Esta llamada usó 257 prompt tokens + 190 completion tokens = $0.002543 USD\n",
      "==> Gasto acumulado: $0.090020 USD\n"
     ]
    },
    {
     "name": "stderr",
     "output_type": "stream",
     "text": [
      " 18%|█▊        | 13/74 [02:50<13:42, 13.48s/it]"
     ]
    },
    {
     "name": "stdout",
     "output_type": "stream",
     "text": [
      "-> Esta llamada usó 262 prompt tokens + 138 completion tokens = $0.002035 USD\n",
      "==> Gasto acumulado: $0.092055 USD\n",
      "-> Esta llamada usó 263 prompt tokens + 209 completion tokens = $0.002748 USD\n",
      "==> Gasto acumulado: $0.094802 USD\n",
      "-> Esta llamada usó 261 prompt tokens + 205 completion tokens = $0.002703 USD\n",
      "==> Gasto acumulado: $0.097505 USD\n"
     ]
    },
    {
     "name": "stderr",
     "output_type": "stream",
     "text": [
      " 19%|█▉        | 14/74 [03:03<13:18, 13.30s/it]"
     ]
    },
    {
     "name": "stdout",
     "output_type": "stream",
     "text": [
      "-> Esta llamada usó 266 prompt tokens + 201 completion tokens = $0.002675 USD\n",
      "==> Gasto acumulado: $0.100180 USD\n",
      "-> Esta llamada usó 294 prompt tokens + 203 completion tokens = $0.002765 USD\n",
      "==> Gasto acumulado: $0.102945 USD\n",
      "-> Esta llamada usó 292 prompt tokens + 165 completion tokens = $0.002380 USD\n",
      "==> Gasto acumulado: $0.105325 USD\n"
     ]
    },
    {
     "name": "stderr",
     "output_type": "stream",
     "text": [
      " 20%|██        | 15/74 [03:18<13:35, 13.83s/it]"
     ]
    },
    {
     "name": "stdout",
     "output_type": "stream",
     "text": [
      "-> Esta llamada usó 297 prompt tokens + 180 completion tokens = $0.002543 USD\n",
      "==> Gasto acumulado: $0.107868 USD\n",
      "-> Esta llamada usó 211 prompt tokens + 152 completion tokens = $0.002048 USD\n",
      "==> Gasto acumulado: $0.109915 USD\n",
      "-> Esta llamada usó 209 prompt tokens + 173 completion tokens = $0.002253 USD\n",
      "==> Gasto acumulado: $0.112168 USD\n"
     ]
    },
    {
     "name": "stderr",
     "output_type": "stream",
     "text": [
      " 22%|██▏       | 16/74 [03:31<13:04, 13.52s/it]"
     ]
    },
    {
     "name": "stdout",
     "output_type": "stream",
     "text": [
      "-> Esta llamada usó 214 prompt tokens + 126 completion tokens = $0.001795 USD\n",
      "==> Gasto acumulado: $0.113963 USD\n",
      "-> Esta llamada usó 180 prompt tokens + 166 completion tokens = $0.002110 USD\n",
      "==> Gasto acumulado: $0.116073 USD\n",
      "-> Esta llamada usó 178 prompt tokens + 148 completion tokens = $0.001925 USD\n",
      "==> Gasto acumulado: $0.117998 USD\n"
     ]
    },
    {
     "name": "stderr",
     "output_type": "stream",
     "text": [
      " 23%|██▎       | 17/74 [03:43<12:12, 12.84s/it]"
     ]
    },
    {
     "name": "stdout",
     "output_type": "stream",
     "text": [
      "-> Esta llamada usó 183 prompt tokens + 126 completion tokens = $0.001718 USD\n",
      "==> Gasto acumulado: $0.119715 USD\n",
      "-> Esta llamada usó 280 prompt tokens + 166 completion tokens = $0.002360 USD\n",
      "==> Gasto acumulado: $0.122075 USD\n",
      "-> Esta llamada usó 278 prompt tokens + 193 completion tokens = $0.002625 USD\n",
      "==> Gasto acumulado: $0.124700 USD\n"
     ]
    },
    {
     "name": "stderr",
     "output_type": "stream",
     "text": [
      " 24%|██▍       | 18/74 [03:59<13:05, 14.03s/it]"
     ]
    },
    {
     "name": "stdout",
     "output_type": "stream",
     "text": [
      "-> Esta llamada usó 283 prompt tokens + 159 completion tokens = $0.002298 USD\n",
      "==> Gasto acumulado: $0.126998 USD\n",
      "-> Esta llamada usó 207 prompt tokens + 183 completion tokens = $0.002348 USD\n",
      "==> Gasto acumulado: $0.129345 USD\n",
      "-> Esta llamada usó 205 prompt tokens + 158 completion tokens = $0.002093 USD\n",
      "==> Gasto acumulado: $0.131438 USD\n"
     ]
    },
    {
     "name": "stderr",
     "output_type": "stream",
     "text": [
      " 26%|██▌       | 19/74 [04:11<12:07, 13.23s/it]"
     ]
    },
    {
     "name": "stdout",
     "output_type": "stream",
     "text": [
      "-> Esta llamada usó 210 prompt tokens + 118 completion tokens = $0.001705 USD\n",
      "==> Gasto acumulado: $0.133143 USD\n",
      "-> Esta llamada usó 175 prompt tokens + 110 completion tokens = $0.001538 USD\n",
      "==> Gasto acumulado: $0.134680 USD\n",
      "-> Esta llamada usó 173 prompt tokens + 136 completion tokens = $0.001793 USD\n",
      "==> Gasto acumulado: $0.136473 USD\n"
     ]
    },
    {
     "name": "stderr",
     "output_type": "stream",
     "text": [
      " 27%|██▋       | 20/74 [04:19<10:37, 11.81s/it]"
     ]
    },
    {
     "name": "stdout",
     "output_type": "stream",
     "text": [
      "-> Esta llamada usó 178 prompt tokens + 112 completion tokens = $0.001565 USD\n",
      "==> Gasto acumulado: $0.138038 USD\n",
      "-> Esta llamada usó 253 prompt tokens + 199 completion tokens = $0.002622 USD\n",
      "==> Gasto acumulado: $0.140660 USD\n",
      "-> Esta llamada usó 251 prompt tokens + 164 completion tokens = $0.002268 USD\n",
      "==> Gasto acumulado: $0.142928 USD\n"
     ]
    },
    {
     "name": "stderr",
     "output_type": "stream",
     "text": [
      " 28%|██▊       | 21/74 [04:28<09:35, 10.85s/it]"
     ]
    },
    {
     "name": "stdout",
     "output_type": "stream",
     "text": [
      "-> Esta llamada usó 256 prompt tokens + 125 completion tokens = $0.001890 USD\n",
      "==> Gasto acumulado: $0.144818 USD\n",
      "-> Esta llamada usó 243 prompt tokens + 195 completion tokens = $0.002558 USD\n",
      "==> Gasto acumulado: $0.147375 USD\n",
      "-> Esta llamada usó 241 prompt tokens + 164 completion tokens = $0.002243 USD\n",
      "==> Gasto acumulado: $0.149618 USD\n"
     ]
    },
    {
     "name": "stderr",
     "output_type": "stream",
     "text": [
      " 30%|██▉       | 22/74 [04:41<09:54, 11.43s/it]"
     ]
    },
    {
     "name": "stdout",
     "output_type": "stream",
     "text": [
      "-> Esta llamada usó 246 prompt tokens + 151 completion tokens = $0.002125 USD\n",
      "==> Gasto acumulado: $0.151743 USD\n",
      "-> Esta llamada usó 283 prompt tokens + 286 completion tokens = $0.003568 USD\n",
      "==> Gasto acumulado: $0.155310 USD\n",
      "-> Esta llamada usó 281 prompt tokens + 166 completion tokens = $0.002363 USD\n",
      "==> Gasto acumulado: $0.157673 USD\n"
     ]
    },
    {
     "name": "stderr",
     "output_type": "stream",
     "text": [
      " 31%|███       | 23/74 [04:56<10:36, 12.49s/it]"
     ]
    },
    {
     "name": "stdout",
     "output_type": "stream",
     "text": [
      "-> Esta llamada usó 286 prompt tokens + 117 completion tokens = $0.001885 USD\n",
      "==> Gasto acumulado: $0.159558 USD\n",
      "-> Esta llamada usó 186 prompt tokens + 168 completion tokens = $0.002145 USD\n",
      "==> Gasto acumulado: $0.161703 USD\n",
      "-> Esta llamada usó 184 prompt tokens + 167 completion tokens = $0.002130 USD\n",
      "==> Gasto acumulado: $0.163833 USD\n"
     ]
    },
    {
     "name": "stderr",
     "output_type": "stream",
     "text": [
      " 32%|███▏      | 24/74 [05:08<10:27, 12.55s/it]"
     ]
    },
    {
     "name": "stdout",
     "output_type": "stream",
     "text": [
      "-> Esta llamada usó 189 prompt tokens + 116 completion tokens = $0.001633 USD\n",
      "==> Gasto acumulado: $0.165465 USD\n",
      "-> Esta llamada usó 198 prompt tokens + 148 completion tokens = $0.001975 USD\n",
      "==> Gasto acumulado: $0.167440 USD\n",
      "-> Esta llamada usó 196 prompt tokens + 163 completion tokens = $0.002120 USD\n",
      "==> Gasto acumulado: $0.169560 USD\n"
     ]
    },
    {
     "name": "stderr",
     "output_type": "stream",
     "text": [
      " 34%|███▍      | 25/74 [05:17<09:13, 11.31s/it]"
     ]
    },
    {
     "name": "stdout",
     "output_type": "stream",
     "text": [
      "-> Esta llamada usó 201 prompt tokens + 131 completion tokens = $0.001813 USD\n",
      "==> Gasto acumulado: $0.171373 USD\n",
      "-> Esta llamada usó 171 prompt tokens + 116 completion tokens = $0.001587 USD\n",
      "==> Gasto acumulado: $0.172960 USD\n",
      "-> Esta llamada usó 169 prompt tokens + 137 completion tokens = $0.001793 USD\n",
      "==> Gasto acumulado: $0.174753 USD\n"
     ]
    },
    {
     "name": "stderr",
     "output_type": "stream",
     "text": [
      " 35%|███▌      | 26/74 [05:26<08:41, 10.87s/it]"
     ]
    },
    {
     "name": "stdout",
     "output_type": "stream",
     "text": [
      "-> Esta llamada usó 174 prompt tokens + 98 completion tokens = $0.001415 USD\n",
      "==> Gasto acumulado: $0.176168 USD\n",
      "-> Esta llamada usó 265 prompt tokens + 213 completion tokens = $0.002793 USD\n",
      "==> Gasto acumulado: $0.178960 USD\n",
      "-> Esta llamada usó 263 prompt tokens + 171 completion tokens = $0.002368 USD\n",
      "==> Gasto acumulado: $0.181328 USD\n"
     ]
    },
    {
     "name": "stderr",
     "output_type": "stream",
     "text": [
      " 36%|███▋      | 27/74 [05:41<09:25, 12.02s/it]"
     ]
    },
    {
     "name": "stdout",
     "output_type": "stream",
     "text": [
      "-> Esta llamada usó 268 prompt tokens + 187 completion tokens = $0.002540 USD\n",
      "==> Gasto acumulado: $0.183868 USD\n",
      "-> Esta llamada usó 196 prompt tokens + 141 completion tokens = $0.001900 USD\n",
      "==> Gasto acumulado: $0.185768 USD\n",
      "-> Esta llamada usó 194 prompt tokens + 137 completion tokens = $0.001855 USD\n",
      "==> Gasto acumulado: $0.187623 USD\n"
     ]
    },
    {
     "name": "stderr",
     "output_type": "stream",
     "text": [
      " 38%|███▊      | 28/74 [05:54<09:30, 12.39s/it]"
     ]
    },
    {
     "name": "stdout",
     "output_type": "stream",
     "text": [
      "-> Esta llamada usó 199 prompt tokens + 129 completion tokens = $0.001788 USD\n",
      "==> Gasto acumulado: $0.189410 USD\n",
      "-> Esta llamada usó 241 prompt tokens + 244 completion tokens = $0.003043 USD\n",
      "==> Gasto acumulado: $0.192453 USD\n",
      "-> Esta llamada usó 239 prompt tokens + 196 completion tokens = $0.002558 USD\n",
      "==> Gasto acumulado: $0.195010 USD\n"
     ]
    },
    {
     "name": "stderr",
     "output_type": "stream",
     "text": [
      " 39%|███▉      | 29/74 [06:10<09:54, 13.21s/it]"
     ]
    },
    {
     "name": "stdout",
     "output_type": "stream",
     "text": [
      "-> Esta llamada usó 244 prompt tokens + 197 completion tokens = $0.002580 USD\n",
      "==> Gasto acumulado: $0.197590 USD\n",
      "-> Esta llamada usó 279 prompt tokens + 223 completion tokens = $0.002928 USD\n",
      "==> Gasto acumulado: $0.200518 USD\n",
      "-> Esta llamada usó 277 prompt tokens + 190 completion tokens = $0.002593 USD\n",
      "==> Gasto acumulado: $0.203110 USD\n"
     ]
    },
    {
     "name": "stderr",
     "output_type": "stream",
     "text": [
      " 41%|████      | 30/74 [06:22<09:30, 12.96s/it]"
     ]
    },
    {
     "name": "stdout",
     "output_type": "stream",
     "text": [
      "-> Esta llamada usó 282 prompt tokens + 150 completion tokens = $0.002205 USD\n",
      "==> Gasto acumulado: $0.205315 USD\n",
      "-> Esta llamada usó 311 prompt tokens + 225 completion tokens = $0.003028 USD\n",
      "==> Gasto acumulado: $0.208343 USD\n",
      "-> Esta llamada usó 309 prompt tokens + 225 completion tokens = $0.003023 USD\n",
      "==> Gasto acumulado: $0.211365 USD\n"
     ]
    },
    {
     "name": "stderr",
     "output_type": "stream",
     "text": [
      " 42%|████▏     | 31/74 [06:34<09:03, 12.64s/it]"
     ]
    },
    {
     "name": "stdout",
     "output_type": "stream",
     "text": [
      "-> Esta llamada usó 314 prompt tokens + 172 completion tokens = $0.002505 USD\n",
      "==> Gasto acumulado: $0.213870 USD\n",
      "-> Esta llamada usó 205 prompt tokens + 158 completion tokens = $0.002093 USD\n",
      "==> Gasto acumulado: $0.215963 USD\n",
      "-> Esta llamada usó 203 prompt tokens + 178 completion tokens = $0.002288 USD\n",
      "==> Gasto acumulado: $0.218250 USD\n"
     ]
    },
    {
     "name": "stderr",
     "output_type": "stream",
     "text": [
      " 43%|████▎     | 32/74 [06:45<08:37, 12.32s/it]"
     ]
    },
    {
     "name": "stdout",
     "output_type": "stream",
     "text": [
      "-> Esta llamada usó 208 prompt tokens + 123 completion tokens = $0.001750 USD\n",
      "==> Gasto acumulado: $0.220000 USD\n",
      "-> Esta llamada usó 285 prompt tokens + 252 completion tokens = $0.003233 USD\n",
      "==> Gasto acumulado: $0.223233 USD\n",
      "-> Esta llamada usó 283 prompt tokens + 229 completion tokens = $0.002998 USD\n",
      "==> Gasto acumulado: $0.226230 USD\n"
     ]
    },
    {
     "name": "stderr",
     "output_type": "stream",
     "text": [
      " 45%|████▍     | 33/74 [06:59<08:38, 12.65s/it]"
     ]
    },
    {
     "name": "stdout",
     "output_type": "stream",
     "text": [
      "-> Esta llamada usó 288 prompt tokens + 184 completion tokens = $0.002560 USD\n",
      "==> Gasto acumulado: $0.228790 USD\n",
      "-> Esta llamada usó 281 prompt tokens + 300 completion tokens = $0.003703 USD\n",
      "==> Gasto acumulado: $0.232493 USD\n",
      "-> Esta llamada usó 279 prompt tokens + 235 completion tokens = $0.003048 USD\n",
      "==> Gasto acumulado: $0.235540 USD\n"
     ]
    },
    {
     "name": "stderr",
     "output_type": "stream",
     "text": [
      " 46%|████▌     | 34/74 [07:16<09:21, 14.04s/it]"
     ]
    },
    {
     "name": "stdout",
     "output_type": "stream",
     "text": [
      "-> Esta llamada usó 284 prompt tokens + 136 completion tokens = $0.002070 USD\n",
      "==> Gasto acumulado: $0.237610 USD\n",
      "-> Esta llamada usó 284 prompt tokens + 274 completion tokens = $0.003450 USD\n",
      "==> Gasto acumulado: $0.241060 USD\n",
      "-> Esta llamada usó 282 prompt tokens + 255 completion tokens = $0.003255 USD\n",
      "==> Gasto acumulado: $0.244315 USD\n"
     ]
    },
    {
     "name": "stderr",
     "output_type": "stream",
     "text": [
      " 47%|████▋     | 35/74 [07:42<11:28, 17.67s/it]"
     ]
    },
    {
     "name": "stdout",
     "output_type": "stream",
     "text": [
      "-> Esta llamada usó 287 prompt tokens + 222 completion tokens = $0.002938 USD\n",
      "==> Gasto acumulado: $0.247253 USD\n",
      "-> Esta llamada usó 292 prompt tokens + 252 completion tokens = $0.003250 USD\n",
      "==> Gasto acumulado: $0.250503 USD\n",
      "-> Esta llamada usó 290 prompt tokens + 199 completion tokens = $0.002715 USD\n",
      "==> Gasto acumulado: $0.253218 USD\n"
     ]
    },
    {
     "name": "stderr",
     "output_type": "stream",
     "text": [
      " 49%|████▊     | 36/74 [07:57<10:33, 16.67s/it]"
     ]
    },
    {
     "name": "stdout",
     "output_type": "stream",
     "text": [
      "-> Esta llamada usó 295 prompt tokens + 193 completion tokens = $0.002668 USD\n",
      "==> Gasto acumulado: $0.255885 USD\n",
      "-> Esta llamada usó 328 prompt tokens + 247 completion tokens = $0.003290 USD\n",
      "==> Gasto acumulado: $0.259175 USD\n",
      "-> Esta llamada usó 326 prompt tokens + 193 completion tokens = $0.002745 USD\n",
      "==> Gasto acumulado: $0.261920 USD\n"
     ]
    },
    {
     "name": "stderr",
     "output_type": "stream",
     "text": [
      " 50%|█████     | 37/74 [08:14<10:27, 16.97s/it]"
     ]
    },
    {
     "name": "stdout",
     "output_type": "stream",
     "text": [
      "-> Esta llamada usó 331 prompt tokens + 136 completion tokens = $0.002188 USD\n",
      "==> Gasto acumulado: $0.264108 USD\n",
      "-> Esta llamada usó 289 prompt tokens + 232 completion tokens = $0.003043 USD\n",
      "==> Gasto acumulado: $0.267150 USD\n",
      "-> Esta llamada usó 287 prompt tokens + 173 completion tokens = $0.002448 USD\n",
      "==> Gasto acumulado: $0.269598 USD\n"
     ]
    },
    {
     "name": "stderr",
     "output_type": "stream",
     "text": [
      " 51%|█████▏    | 38/74 [08:27<09:22, 15.62s/it]"
     ]
    },
    {
     "name": "stdout",
     "output_type": "stream",
     "text": [
      "-> Esta llamada usó 292 prompt tokens + 198 completion tokens = $0.002710 USD\n",
      "==> Gasto acumulado: $0.272308 USD\n",
      "-> Esta llamada usó 211 prompt tokens + 170 completion tokens = $0.002228 USD\n",
      "==> Gasto acumulado: $0.274535 USD\n",
      "-> Esta llamada usó 209 prompt tokens + 132 completion tokens = $0.001843 USD\n",
      "==> Gasto acumulado: $0.276378 USD\n"
     ]
    },
    {
     "name": "stderr",
     "output_type": "stream",
     "text": [
      " 53%|█████▎    | 39/74 [08:34<07:41, 13.19s/it]"
     ]
    },
    {
     "name": "stdout",
     "output_type": "stream",
     "text": [
      "-> Esta llamada usó 214 prompt tokens + 95 completion tokens = $0.001485 USD\n",
      "==> Gasto acumulado: $0.277863 USD\n",
      "-> Esta llamada usó 243 prompt tokens + 218 completion tokens = $0.002788 USD\n",
      "==> Gasto acumulado: $0.280650 USD\n",
      "-> Esta llamada usó 241 prompt tokens + 151 completion tokens = $0.002113 USD\n",
      "==> Gasto acumulado: $0.282763 USD\n"
     ]
    },
    {
     "name": "stderr",
     "output_type": "stream",
     "text": [
      " 54%|█████▍    | 40/74 [08:44<06:52, 12.12s/it]"
     ]
    },
    {
     "name": "stdout",
     "output_type": "stream",
     "text": [
      "-> Esta llamada usó 246 prompt tokens + 162 completion tokens = $0.002235 USD\n",
      "==> Gasto acumulado: $0.284998 USD\n",
      "-> Esta llamada usó 260 prompt tokens + 242 completion tokens = $0.003070 USD\n",
      "==> Gasto acumulado: $0.288068 USD\n",
      "-> Esta llamada usó 258 prompt tokens + 192 completion tokens = $0.002565 USD\n",
      "==> Gasto acumulado: $0.290633 USD\n"
     ]
    },
    {
     "name": "stderr",
     "output_type": "stream",
     "text": [
      " 55%|█████▌    | 41/74 [08:55<06:34, 11.96s/it]"
     ]
    },
    {
     "name": "stdout",
     "output_type": "stream",
     "text": [
      "-> Esta llamada usó 263 prompt tokens + 170 completion tokens = $0.002358 USD\n",
      "==> Gasto acumulado: $0.292990 USD\n",
      "-> Esta llamada usó 240 prompt tokens + 192 completion tokens = $0.002520 USD\n",
      "==> Gasto acumulado: $0.295510 USD\n",
      "-> Esta llamada usó 238 prompt tokens + 149 completion tokens = $0.002085 USD\n",
      "==> Gasto acumulado: $0.297595 USD\n"
     ]
    },
    {
     "name": "stderr",
     "output_type": "stream",
     "text": [
      " 57%|█████▋    | 42/74 [09:06<06:12, 11.64s/it]"
     ]
    },
    {
     "name": "stdout",
     "output_type": "stream",
     "text": [
      "-> Esta llamada usó 243 prompt tokens + 153 completion tokens = $0.002138 USD\n",
      "==> Gasto acumulado: $0.299733 USD\n",
      "-> Esta llamada usó 199 prompt tokens + 117 completion tokens = $0.001668 USD\n",
      "==> Gasto acumulado: $0.301400 USD\n",
      "-> Esta llamada usó 197 prompt tokens + 161 completion tokens = $0.002103 USD\n",
      "==> Gasto acumulado: $0.303503 USD\n"
     ]
    },
    {
     "name": "stderr",
     "output_type": "stream",
     "text": [
      " 58%|█████▊    | 43/74 [09:15<05:30, 10.66s/it]"
     ]
    },
    {
     "name": "stdout",
     "output_type": "stream",
     "text": [
      "-> Esta llamada usó 202 prompt tokens + 107 completion tokens = $0.001575 USD\n",
      "==> Gasto acumulado: $0.305078 USD\n",
      "-> Esta llamada usó 232 prompt tokens + 186 completion tokens = $0.002440 USD\n",
      "==> Gasto acumulado: $0.307518 USD\n",
      "-> Esta llamada usó 230 prompt tokens + 155 completion tokens = $0.002125 USD\n",
      "==> Gasto acumulado: $0.309643 USD\n"
     ]
    },
    {
     "name": "stderr",
     "output_type": "stream",
     "text": [
      " 59%|█████▉    | 44/74 [09:27<05:37, 11.24s/it]"
     ]
    },
    {
     "name": "stdout",
     "output_type": "stream",
     "text": [
      "-> Esta llamada usó 235 prompt tokens + 162 completion tokens = $0.002208 USD\n",
      "==> Gasto acumulado: $0.311850 USD\n",
      "-> Esta llamada usó 310 prompt tokens + 221 completion tokens = $0.002985 USD\n",
      "==> Gasto acumulado: $0.314835 USD\n",
      "-> Esta llamada usó 308 prompt tokens + 176 completion tokens = $0.002530 USD\n",
      "==> Gasto acumulado: $0.317365 USD\n"
     ]
    },
    {
     "name": "stderr",
     "output_type": "stream",
     "text": [
      " 61%|██████    | 45/74 [09:41<05:47, 11.98s/it]"
     ]
    },
    {
     "name": "stdout",
     "output_type": "stream",
     "text": [
      "-> Esta llamada usó 313 prompt tokens + 188 completion tokens = $0.002663 USD\n",
      "==> Gasto acumulado: $0.320028 USD\n",
      "-> Esta llamada usó 276 prompt tokens + 228 completion tokens = $0.002970 USD\n",
      "==> Gasto acumulado: $0.322998 USD\n",
      "-> Esta llamada usó 274 prompt tokens + 203 completion tokens = $0.002715 USD\n",
      "==> Gasto acumulado: $0.325713 USD\n"
     ]
    },
    {
     "name": "stderr",
     "output_type": "stream",
     "text": [
      " 62%|██████▏   | 46/74 [09:51<05:14, 11.24s/it]"
     ]
    },
    {
     "name": "stdout",
     "output_type": "stream",
     "text": [
      "-> Esta llamada usó 279 prompt tokens + 139 completion tokens = $0.002088 USD\n",
      "==> Gasto acumulado: $0.327800 USD\n",
      "-> Esta llamada usó 281 prompt tokens + 248 completion tokens = $0.003182 USD\n",
      "==> Gasto acumulado: $0.330983 USD\n",
      "-> Esta llamada usó 279 prompt tokens + 141 completion tokens = $0.002107 USD\n",
      "==> Gasto acumulado: $0.333090 USD\n"
     ]
    },
    {
     "name": "stderr",
     "output_type": "stream",
     "text": [
      " 64%|██████▎   | 47/74 [10:01<04:54, 10.91s/it]"
     ]
    },
    {
     "name": "stdout",
     "output_type": "stream",
     "text": [
      "-> Esta llamada usó 284 prompt tokens + 143 completion tokens = $0.002140 USD\n",
      "==> Gasto acumulado: $0.335230 USD\n",
      "-> Esta llamada usó 300 prompt tokens + 243 completion tokens = $0.003180 USD\n",
      "==> Gasto acumulado: $0.338410 USD\n",
      "-> Esta llamada usó 298 prompt tokens + 228 completion tokens = $0.003025 USD\n",
      "==> Gasto acumulado: $0.341435 USD\n"
     ]
    },
    {
     "name": "stderr",
     "output_type": "stream",
     "text": [
      " 65%|██████▍   | 48/74 [10:14<04:59, 11.51s/it]"
     ]
    },
    {
     "name": "stdout",
     "output_type": "stream",
     "text": [
      "-> Esta llamada usó 303 prompt tokens + 180 completion tokens = $0.002558 USD\n",
      "==> Gasto acumulado: $0.343993 USD\n",
      "-> Esta llamada usó 247 prompt tokens + 216 completion tokens = $0.002778 USD\n",
      "==> Gasto acumulado: $0.346770 USD\n",
      "-> Esta llamada usó 245 prompt tokens + 158 completion tokens = $0.002193 USD\n",
      "==> Gasto acumulado: $0.348963 USD\n"
     ]
    },
    {
     "name": "stderr",
     "output_type": "stream",
     "text": [
      " 66%|██████▌   | 49/74 [10:30<05:25, 13.03s/it]"
     ]
    },
    {
     "name": "stdout",
     "output_type": "stream",
     "text": [
      "-> Esta llamada usó 250 prompt tokens + 188 completion tokens = $0.002505 USD\n",
      "==> Gasto acumulado: $0.351468 USD\n",
      "-> Esta llamada usó 257 prompt tokens + 187 completion tokens = $0.002512 USD\n",
      "==> Gasto acumulado: $0.353980 USD\n",
      "-> Esta llamada usó 255 prompt tokens + 189 completion tokens = $0.002528 USD\n",
      "==> Gasto acumulado: $0.356508 USD\n"
     ]
    },
    {
     "name": "stderr",
     "output_type": "stream",
     "text": [
      " 68%|██████▊   | 50/74 [10:40<04:52, 12.20s/it]"
     ]
    },
    {
     "name": "stdout",
     "output_type": "stream",
     "text": [
      "-> Esta llamada usó 260 prompt tokens + 168 completion tokens = $0.002330 USD\n",
      "==> Gasto acumulado: $0.358838 USD\n",
      "-> Esta llamada usó 440 prompt tokens + 300 completion tokens = $0.004100 USD\n",
      "==> Gasto acumulado: $0.362938 USD\n",
      "-> Esta llamada usó 438 prompt tokens + 244 completion tokens = $0.003535 USD\n",
      "==> Gasto acumulado: $0.366473 USD\n"
     ]
    },
    {
     "name": "stderr",
     "output_type": "stream",
     "text": [
      " 69%|██████▉   | 51/74 [11:01<05:39, 14.74s/it]"
     ]
    },
    {
     "name": "stdout",
     "output_type": "stream",
     "text": [
      "-> Esta llamada usó 443 prompt tokens + 176 completion tokens = $0.002868 USD\n",
      "==> Gasto acumulado: $0.369340 USD\n",
      "-> Esta llamada usó 239 prompt tokens + 245 completion tokens = $0.003048 USD\n",
      "==> Gasto acumulado: $0.372388 USD\n",
      "-> Esta llamada usó 237 prompt tokens + 240 completion tokens = $0.002993 USD\n",
      "==> Gasto acumulado: $0.375380 USD\n"
     ]
    },
    {
     "name": "stderr",
     "output_type": "stream",
     "text": [
      " 70%|███████   | 52/74 [11:17<05:33, 15.14s/it]"
     ]
    },
    {
     "name": "stdout",
     "output_type": "stream",
     "text": [
      "-> Esta llamada usó 242 prompt tokens + 181 completion tokens = $0.002415 USD\n",
      "==> Gasto acumulado: $0.377795 USD\n",
      "-> Esta llamada usó 315 prompt tokens + 236 completion tokens = $0.003148 USD\n",
      "==> Gasto acumulado: $0.380943 USD\n",
      "-> Esta llamada usó 313 prompt tokens + 198 completion tokens = $0.002763 USD\n",
      "==> Gasto acumulado: $0.383705 USD\n"
     ]
    },
    {
     "name": "stderr",
     "output_type": "stream",
     "text": [
      " 72%|███████▏  | 53/74 [11:29<04:54, 14.02s/it]"
     ]
    },
    {
     "name": "stdout",
     "output_type": "stream",
     "text": [
      "-> Esta llamada usó 318 prompt tokens + 163 completion tokens = $0.002425 USD\n",
      "==> Gasto acumulado: $0.386130 USD\n",
      "-> Esta llamada usó 324 prompt tokens + 300 completion tokens = $0.003810 USD\n",
      "==> Gasto acumulado: $0.389940 USD\n",
      "-> Esta llamada usó 322 prompt tokens + 209 completion tokens = $0.002895 USD\n",
      "==> Gasto acumulado: $0.392835 USD\n"
     ]
    },
    {
     "name": "stderr",
     "output_type": "stream",
     "text": [
      " 73%|███████▎  | 54/74 [11:38<04:11, 12.57s/it]"
     ]
    },
    {
     "name": "stdout",
     "output_type": "stream",
     "text": [
      "-> Esta llamada usó 327 prompt tokens + 135 completion tokens = $0.002168 USD\n",
      "==> Gasto acumulado: $0.395003 USD\n",
      "-> Esta llamada usó 287 prompt tokens + 238 completion tokens = $0.003098 USD\n",
      "==> Gasto acumulado: $0.398100 USD\n",
      "-> Esta llamada usó 285 prompt tokens + 165 completion tokens = $0.002363 USD\n",
      "==> Gasto acumulado: $0.400463 USD\n"
     ]
    },
    {
     "name": "stderr",
     "output_type": "stream",
     "text": [
      " 74%|███████▍  | 55/74 [11:51<04:00, 12.67s/it]"
     ]
    },
    {
     "name": "stdout",
     "output_type": "stream",
     "text": [
      "-> Esta llamada usó 290 prompt tokens + 145 completion tokens = $0.002175 USD\n",
      "==> Gasto acumulado: $0.402638 USD\n",
      "-> Esta llamada usó 257 prompt tokens + 300 completion tokens = $0.003642 USD\n",
      "==> Gasto acumulado: $0.406280 USD\n",
      "-> Esta llamada usó 255 prompt tokens + 185 completion tokens = $0.002488 USD\n",
      "==> Gasto acumulado: $0.408768 USD\n"
     ]
    },
    {
     "name": "stderr",
     "output_type": "stream",
     "text": [
      " 76%|███████▌  | 56/74 [12:04<03:53, 12.99s/it]"
     ]
    },
    {
     "name": "stdout",
     "output_type": "stream",
     "text": [
      "-> Esta llamada usó 260 prompt tokens + 144 completion tokens = $0.002090 USD\n",
      "==> Gasto acumulado: $0.410857 USD\n",
      "-> Esta llamada usó 203 prompt tokens + 156 completion tokens = $0.002068 USD\n",
      "==> Gasto acumulado: $0.412925 USD\n",
      "-> Esta llamada usó 201 prompt tokens + 146 completion tokens = $0.001963 USD\n",
      "==> Gasto acumulado: $0.414887 USD\n"
     ]
    },
    {
     "name": "stderr",
     "output_type": "stream",
     "text": [
      " 77%|███████▋  | 57/74 [12:16<03:33, 12.53s/it]"
     ]
    },
    {
     "name": "stdout",
     "output_type": "stream",
     "text": [
      "-> Esta llamada usó 206 prompt tokens + 137 completion tokens = $0.001885 USD\n",
      "==> Gasto acumulado: $0.416772 USD\n",
      "-> Esta llamada usó 361 prompt tokens + 300 completion tokens = $0.003903 USD\n",
      "==> Gasto acumulado: $0.420675 USD\n",
      "-> Esta llamada usó 359 prompt tokens + 181 completion tokens = $0.002708 USD\n",
      "==> Gasto acumulado: $0.423382 USD\n"
     ]
    },
    {
     "name": "stderr",
     "output_type": "stream",
     "text": [
      " 78%|███████▊  | 58/74 [12:28<03:17, 12.32s/it]"
     ]
    },
    {
     "name": "stdout",
     "output_type": "stream",
     "text": [
      "-> Esta llamada usó 364 prompt tokens + 205 completion tokens = $0.002960 USD\n",
      "==> Gasto acumulado: $0.426342 USD\n",
      "-> Esta llamada usó 258 prompt tokens + 261 completion tokens = $0.003255 USD\n",
      "==> Gasto acumulado: $0.429597 USD\n",
      "-> Esta llamada usó 256 prompt tokens + 231 completion tokens = $0.002950 USD\n",
      "==> Gasto acumulado: $0.432547 USD\n"
     ]
    },
    {
     "name": "stderr",
     "output_type": "stream",
     "text": [
      " 80%|███████▉  | 59/74 [12:44<03:21, 13.45s/it]"
     ]
    },
    {
     "name": "stdout",
     "output_type": "stream",
     "text": [
      "-> Esta llamada usó 261 prompt tokens + 202 completion tokens = $0.002673 USD\n",
      "==> Gasto acumulado: $0.435220 USD\n",
      "-> Esta llamada usó 327 prompt tokens + 279 completion tokens = $0.003608 USD\n",
      "==> Gasto acumulado: $0.438827 USD\n",
      "-> Esta llamada usó 325 prompt tokens + 170 completion tokens = $0.002512 USD\n",
      "==> Gasto acumulado: $0.441340 USD\n"
     ]
    },
    {
     "name": "stderr",
     "output_type": "stream",
     "text": [
      " 81%|████████  | 60/74 [12:57<03:07, 13.42s/it]"
     ]
    },
    {
     "name": "stdout",
     "output_type": "stream",
     "text": [
      "-> Esta llamada usó 330 prompt tokens + 171 completion tokens = $0.002535 USD\n",
      "==> Gasto acumulado: $0.443875 USD\n",
      "-> Esta llamada usó 272 prompt tokens + 225 completion tokens = $0.002930 USD\n",
      "==> Gasto acumulado: $0.446805 USD\n",
      "-> Esta llamada usó 270 prompt tokens + 145 completion tokens = $0.002125 USD\n",
      "==> Gasto acumulado: $0.448930 USD\n"
     ]
    },
    {
     "name": "stderr",
     "output_type": "stream",
     "text": [
      " 82%|████████▏ | 61/74 [13:11<02:56, 13.57s/it]"
     ]
    },
    {
     "name": "stdout",
     "output_type": "stream",
     "text": [
      "-> Esta llamada usó 275 prompt tokens + 182 completion tokens = $0.002508 USD\n",
      "==> Gasto acumulado: $0.451437 USD\n",
      "-> Esta llamada usó 315 prompt tokens + 240 completion tokens = $0.003188 USD\n",
      "==> Gasto acumulado: $0.454625 USD\n",
      "-> Esta llamada usó 313 prompt tokens + 232 completion tokens = $0.003103 USD\n",
      "==> Gasto acumulado: $0.457727 USD\n"
     ]
    },
    {
     "name": "stderr",
     "output_type": "stream",
     "text": [
      " 84%|████████▍ | 62/74 [13:24<02:39, 13.31s/it]"
     ]
    },
    {
     "name": "stdout",
     "output_type": "stream",
     "text": [
      "-> Esta llamada usó 318 prompt tokens + 157 completion tokens = $0.002365 USD\n",
      "==> Gasto acumulado: $0.460092 USD\n",
      "-> Esta llamada usó 377 prompt tokens + 300 completion tokens = $0.003942 USD\n",
      "==> Gasto acumulado: $0.464035 USD\n",
      "-> Esta llamada usó 375 prompt tokens + 180 completion tokens = $0.002738 USD\n",
      "==> Gasto acumulado: $0.466772 USD\n"
     ]
    },
    {
     "name": "stderr",
     "output_type": "stream",
     "text": [
      " 85%|████████▌ | 63/74 [13:35<02:20, 12.78s/it]"
     ]
    },
    {
     "name": "stdout",
     "output_type": "stream",
     "text": [
      "-> Esta llamada usó 380 prompt tokens + 300 completion tokens = $0.003950 USD\n",
      "==> Gasto acumulado: $0.470722 USD\n",
      "-> Esta llamada usó 286 prompt tokens + 245 completion tokens = $0.003165 USD\n",
      "==> Gasto acumulado: $0.473887 USD\n",
      "-> Esta llamada usó 284 prompt tokens + 175 completion tokens = $0.002460 USD\n",
      "==> Gasto acumulado: $0.476347 USD\n"
     ]
    },
    {
     "name": "stderr",
     "output_type": "stream",
     "text": [
      " 86%|████████▋ | 64/74 [13:48<02:07, 12.79s/it]"
     ]
    },
    {
     "name": "stdout",
     "output_type": "stream",
     "text": [
      "-> Esta llamada usó 289 prompt tokens + 164 completion tokens = $0.002363 USD\n",
      "==> Gasto acumulado: $0.478710 USD\n",
      "-> Esta llamada usó 278 prompt tokens + 194 completion tokens = $0.002635 USD\n",
      "==> Gasto acumulado: $0.481345 USD\n",
      "-> Esta llamada usó 276 prompt tokens + 195 completion tokens = $0.002640 USD\n",
      "==> Gasto acumulado: $0.483985 USD\n"
     ]
    },
    {
     "name": "stderr",
     "output_type": "stream",
     "text": [
      " 88%|████████▊ | 65/74 [14:02<01:57, 13.10s/it]"
     ]
    },
    {
     "name": "stdout",
     "output_type": "stream",
     "text": [
      "-> Esta llamada usó 281 prompt tokens + 159 completion tokens = $0.002293 USD\n",
      "==> Gasto acumulado: $0.486277 USD\n",
      "-> Esta llamada usó 261 prompt tokens + 206 completion tokens = $0.002713 USD\n",
      "==> Gasto acumulado: $0.488990 USD\n",
      "-> Esta llamada usó 259 prompt tokens + 182 completion tokens = $0.002468 USD\n",
      "==> Gasto acumulado: $0.491457 USD\n"
     ]
    },
    {
     "name": "stderr",
     "output_type": "stream",
     "text": [
      " 89%|████████▉ | 66/74 [14:11<01:34, 11.81s/it]"
     ]
    },
    {
     "name": "stdout",
     "output_type": "stream",
     "text": [
      "-> Esta llamada usó 264 prompt tokens + 119 completion tokens = $0.001850 USD\n",
      "==> Gasto acumulado: $0.493307 USD\n",
      "-> Esta llamada usó 287 prompt tokens + 162 completion tokens = $0.002338 USD\n",
      "==> Gasto acumulado: $0.495645 USD\n",
      "-> Esta llamada usó 285 prompt tokens + 180 completion tokens = $0.002512 USD\n",
      "==> Gasto acumulado: $0.498157 USD\n"
     ]
    },
    {
     "name": "stderr",
     "output_type": "stream",
     "text": [
      " 91%|█████████ | 67/74 [14:26<01:29, 12.79s/it]"
     ]
    },
    {
     "name": "stdout",
     "output_type": "stream",
     "text": [
      "-> Esta llamada usó 290 prompt tokens + 138 completion tokens = $0.002105 USD\n",
      "==> Gasto acumulado: $0.500262 USD\n",
      "-> Esta llamada usó 292 prompt tokens + 266 completion tokens = $0.003390 USD\n",
      "==> Gasto acumulado: $0.503652 USD\n",
      "-> Esta llamada usó 290 prompt tokens + 208 completion tokens = $0.002805 USD\n",
      "==> Gasto acumulado: $0.506457 USD\n"
     ]
    },
    {
     "name": "stderr",
     "output_type": "stream",
     "text": [
      " 92%|█████████▏| 68/74 [14:38<01:16, 12.76s/it]"
     ]
    },
    {
     "name": "stdout",
     "output_type": "stream",
     "text": [
      "-> Esta llamada usó 295 prompt tokens + 206 completion tokens = $0.002798 USD\n",
      "==> Gasto acumulado: $0.509255 USD\n",
      "-> Esta llamada usó 259 prompt tokens + 249 completion tokens = $0.003138 USD\n",
      "==> Gasto acumulado: $0.512392 USD\n",
      "-> Esta llamada usó 257 prompt tokens + 227 completion tokens = $0.002913 USD\n",
      "==> Gasto acumulado: $0.515305 USD\n"
     ]
    },
    {
     "name": "stderr",
     "output_type": "stream",
     "text": [
      " 93%|█████████▎| 69/74 [14:49<01:00, 12.19s/it]"
     ]
    },
    {
     "name": "stdout",
     "output_type": "stream",
     "text": [
      "-> Esta llamada usó 262 prompt tokens + 131 completion tokens = $0.001965 USD\n",
      "==> Gasto acumulado: $0.517270 USD\n",
      "-> Esta llamada usó 268 prompt tokens + 144 completion tokens = $0.002110 USD\n",
      "==> Gasto acumulado: $0.519380 USD\n",
      "-> Esta llamada usó 266 prompt tokens + 170 completion tokens = $0.002365 USD\n",
      "==> Gasto acumulado: $0.521745 USD\n"
     ]
    },
    {
     "name": "stderr",
     "output_type": "stream",
     "text": [
      " 95%|█████████▍| 70/74 [15:03<00:50, 12.58s/it]"
     ]
    },
    {
     "name": "stdout",
     "output_type": "stream",
     "text": [
      "-> Esta llamada usó 271 prompt tokens + 138 completion tokens = $0.002058 USD\n",
      "==> Gasto acumulado: $0.523802 USD\n",
      "-> Esta llamada usó 190 prompt tokens + 135 completion tokens = $0.001825 USD\n",
      "==> Gasto acumulado: $0.525627 USD\n",
      "-> Esta llamada usó 188 prompt tokens + 160 completion tokens = $0.002070 USD\n",
      "==> Gasto acumulado: $0.527697 USD\n"
     ]
    },
    {
     "name": "stderr",
     "output_type": "stream",
     "text": [
      " 96%|█████████▌| 71/74 [15:13<00:35, 11.83s/it]"
     ]
    },
    {
     "name": "stdout",
     "output_type": "stream",
     "text": [
      "-> Esta llamada usó 193 prompt tokens + 131 completion tokens = $0.001793 USD\n",
      "==> Gasto acumulado: $0.529490 USD\n",
      "-> Esta llamada usó 289 prompt tokens + 251 completion tokens = $0.003233 USD\n",
      "==> Gasto acumulado: $0.532722 USD\n",
      "-> Esta llamada usó 287 prompt tokens + 213 completion tokens = $0.002848 USD\n",
      "==> Gasto acumulado: $0.535570 USD\n"
     ]
    },
    {
     "name": "stderr",
     "output_type": "stream",
     "text": [
      " 97%|█████████▋| 72/74 [15:27<00:25, 12.61s/it]"
     ]
    },
    {
     "name": "stdout",
     "output_type": "stream",
     "text": [
      "-> Esta llamada usó 292 prompt tokens + 165 completion tokens = $0.002380 USD\n",
      "==> Gasto acumulado: $0.537950 USD\n",
      "-> Esta llamada usó 185 prompt tokens + 158 completion tokens = $0.002043 USD\n",
      "==> Gasto acumulado: $0.539992 USD\n",
      "-> Esta llamada usó 183 prompt tokens + 150 completion tokens = $0.001958 USD\n",
      "==> Gasto acumulado: $0.541950 USD\n"
     ]
    },
    {
     "name": "stderr",
     "output_type": "stream",
     "text": [
      " 99%|█████████▊| 73/74 [15:42<00:13, 13.10s/it]"
     ]
    },
    {
     "name": "stdout",
     "output_type": "stream",
     "text": [
      "-> Esta llamada usó 188 prompt tokens + 109 completion tokens = $0.001560 USD\n",
      "==> Gasto acumulado: $0.543510 USD\n",
      "-> Esta llamada usó 212 prompt tokens + 180 completion tokens = $0.002330 USD\n",
      "==> Gasto acumulado: $0.545840 USD\n",
      "-> Esta llamada usó 210 prompt tokens + 152 completion tokens = $0.002045 USD\n",
      "==> Gasto acumulado: $0.547885 USD\n"
     ]
    },
    {
     "name": "stderr",
     "output_type": "stream",
     "text": [
      "100%|██████████| 74/74 [15:51<00:00, 12.86s/it]"
     ]
    },
    {
     "name": "stdout",
     "output_type": "stream",
     "text": [
      "-> Esta llamada usó 215 prompt tokens + 140 completion tokens = $0.001938 USD\n",
      "==> Gasto acumulado: $0.549822 USD\n"
     ]
    },
    {
     "name": "stderr",
     "output_type": "stream",
     "text": [
      "\n"
     ]
    }
   ],
   "source": [
    "TEMPLATES = [\n",
    "    \"Explica qué significa este meme en Chile, usando lenguaje coloquial chileno.\",\n",
    "    \"Explica cómo entendería este meme alguien que vive en Chile, usando ejemplos culturales o referencias locales que ayuden a comprender el chiste.\",\n",
    "    \"Describe por qué este meme sería gracioso o significativo para un chileno, destacando elementos del contexto social o cotidiano en Chile.\",\n",
    "    \"Imagina que le explicas este meme a alguien extranjero: ¿cómo resumirías su sentido y por qué es gracioso para la gente en Chile?\"\n",
    "]\n",
    "\n",
    "total_cost = 0.0\n",
    "\n",
    "def generate_aligned_response(base_instruction, base_answer, new_instruction):\n",
    "    global total_cost\n",
    "\n",
    "    prompt = (\n",
    "        f\"Prompt base:\\n{base_instruction}\\n\\n\"\n",
    "        f\"Respuesta original:\\n{base_answer}\\n\\n\"\n",
    "        f\"Tarea:\\nReescribe una respuesta alineada a esta nueva instrucción, solo debes devolver la respuesta:\\n{new_instruction}\"\n",
    "    )\n",
    "\n",
    "    rsp = client.chat.completions.create(\n",
    "        model=\"gpt-4o\",\n",
    "        messages=[{\"role\": \"user\", \"content\": prompt}],\n",
    "        temperature=0.7,\n",
    "        max_tokens=300\n",
    "    )\n",
    "\n",
    "    usage = rsp.usage\n",
    "    prompt_tokens = usage.prompt_tokens\n",
    "    completion_tokens = usage.completion_tokens\n",
    "\n",
    "    # Costos por millón de tokens (ajusta según tu cuenta)\n",
    "    cost_per_million_prompt = 2.50 / 1_000_000\n",
    "    cost_per_million_completion = 10.00 / 1_000_000\n",
    "\n",
    "    call_cost = (prompt_tokens * cost_per_million_prompt) + (completion_tokens * cost_per_million_completion)\n",
    "    total_cost += call_cost\n",
    "\n",
    "    print(f\"-> Esta llamada usó {prompt_tokens} prompt tokens + {completion_tokens} completion tokens = ${call_cost:.6f} USD\")\n",
    "    print(f\"==> Gasto acumulado: ${total_cost:.6f} USD\")\n",
    "\n",
    "    return rsp.choices[0].message.content.strip()\n",
    "\n",
    "records = []\n",
    "\n",
    "for idx, entry in tqdm.tqdm(df_publicaciones.iterrows(), total=len(df_publicaciones)):\n",
    "    img = Image.open(entry[\"ruta\"])\n",
    "    url = entry[\"url\"]\n",
    "    base_answer = entry['multiple_choice_answer']\n",
    "\n",
    "    # Prompt base → respuesta ya validada\n",
    "    records.append({\n",
    "        \"image\": img,\n",
    "        \"url\": url,\n",
    "        \"instruction\": TEMPLATES[0],\n",
    "        \"multiple_choice_answer\": base_answer,\n",
    "    })\n",
    "\n",
    "    # Para cada nueva instrucción, generar respuesta alineada\n",
    "    for new_instruction in TEMPLATES[1:]:\n",
    "        aligned_answer = generate_aligned_response(TEMPLATES[0], base_answer, new_instruction)\n",
    "        records.append({\n",
    "            \"image\": img,\n",
    "            \"url\": url,\n",
    "            \"instruction\": new_instruction,\n",
    "            \"multiple_choice_answer\": aligned_answer,\n",
    "        })"
   ]
  },
  {
   "cell_type": "code",
   "execution_count": 6,
   "metadata": {},
   "outputs": [
    {
     "name": "stderr",
     "output_type": "stream",
     "text": [
      "Generating train split: 100%|██████████| 4480/4480 [00:00<00:00, 18323.11 examples/s]\n"
     ]
    }
   ],
   "source": [
    "ds_original = load_dataset(\"AndresSebad/memes_instagram_chilenos_es_small\", trust_remote_code=True)"
   ]
  },
  {
   "cell_type": "code",
   "execution_count": 7,
   "metadata": {},
   "outputs": [
    {
     "data": {
      "text/plain": [
       "DatasetDict({\n",
       "    train: Dataset({\n",
       "        features: ['image', 'url', 'instruction', 'multiple_choice_answer'],\n",
       "        num_rows: 4480\n",
       "    })\n",
       "})"
      ]
     },
     "execution_count": 7,
     "metadata": {},
     "output_type": "execute_result"
    }
   ],
   "source": [
    "ds_original"
   ]
  },
  {
   "cell_type": "code",
   "execution_count": 8,
   "metadata": {},
   "outputs": [],
   "source": [
    "ds = Dataset.from_list(records)"
   ]
  },
  {
   "cell_type": "code",
   "execution_count": 12,
   "metadata": {},
   "outputs": [
    {
     "data": {
      "text/plain": [
       "Dataset({\n",
       "    features: ['image', 'url', 'instruction', 'multiple_choice_answer'],\n",
       "    num_rows: 296\n",
       "})"
      ]
     },
     "execution_count": 12,
     "metadata": {},
     "output_type": "execute_result"
    }
   ],
   "source": [
    "ds"
   ]
  },
  {
   "cell_type": "code",
   "execution_count": 13,
   "metadata": {},
   "outputs": [],
   "source": [
    "ds_combinado = concatenate_datasets([ds_original[\"train\"], ds])\n",
    "\n",
    "ds_final = DatasetDict({\"train\": ds_combinado})"
   ]
  },
  {
   "cell_type": "code",
   "execution_count": 15,
   "metadata": {},
   "outputs": [
    {
     "data": {
      "text/plain": [
       "DatasetDict({\n",
       "    train: Dataset({\n",
       "        features: ['image', 'url', 'instruction', 'multiple_choice_answer'],\n",
       "        num_rows: 4776\n",
       "    })\n",
       "})"
      ]
     },
     "execution_count": 15,
     "metadata": {},
     "output_type": "execute_result"
    }
   ],
   "source": [
    "ds_final"
   ]
  },
  {
   "cell_type": "code",
   "execution_count": 16,
   "metadata": {},
   "outputs": [
    {
     "name": "stderr",
     "output_type": "stream",
     "text": [
      "Saving the dataset (2/2 shards): 100%|██████████| 4776/4776 [00:00<00:00, 6120.56 examples/s]\n"
     ]
    }
   ],
   "source": [
    "ds_final.save_to_disk(\"../data/processed/meme_chileno_dataset\")"
   ]
  },
  {
   "cell_type": "code",
   "execution_count": 17,
   "metadata": {},
   "outputs": [
    {
     "data": {
      "text/plain": [
       "{'image': <PIL.JpegImagePlugin.JpegImageFile image mode=RGB size=1080x1177>,\n",
       " 'url': 'https://scontent-iad3-1.cdninstagram.com/v/t51.2885-15/484947432_17956550774914567_1586563743878175635_n.webp?stp=dst-jpg_e35_p1080x1080_sh0.08_tt6&_nc_ht=scontent-iad3-1.cdninstagram.com&_nc_cat=107&_nc_oc=Q6cZ2QFRqm_oun69VyXvYvSd0pn94uizTyLMbpJv6hdXAP06GsNCz-OrFlQWGjI1kqpbjOY7oqtTiEJ-eYyYc3C0Cnml&_nc_ohc=mVLrljuRfoAQ7kNvwEgW0SO&_nc_gid=Y3rZi7kNfGALLPZbM5wRww&edm=APs17CUBAAAA&ccb=7-5&oh=00_AfKHSqcQpKPQpuM-SibtZyoLBI-TRU1HsWgBbzMj695JmA&oe=683B399A&_nc_sid=10d13b',\n",
       " 'instruction': 'Explica qué significa este meme en Chile, usando lenguaje coloquial chileno.',\n",
       " 'multiple_choice_answer': '¡Uff, está potente la imagen! Muestra una especie de maestro de orquesta que parece estar orquestando una explosión nuclear, pero en vez de música, tiene que ver con el estado de Israel y su reconocimiento. El meme juega con la ironía y el dramatismo, porque mientras habla del \"estado ilegítimo\", uno podría pensar que está controlando algo catastrófico o de gran magnitud. Es como exagerar la percepción de querer controlar o influir en situaciones geo-políticas enormes desde la perspectiva personal de \"yo\". Así que mezcla harto de crítica y humor negro, típico de internet.'}"
      ]
     },
     "execution_count": 17,
     "metadata": {},
     "output_type": "execute_result"
    }
   ],
   "source": [
    "ds_final['train'][4500]"
   ]
  },
  {
   "cell_type": "code",
   "execution_count": 18,
   "metadata": {},
   "outputs": [
    {
     "name": "stderr",
     "output_type": "stream",
     "text": [
      "Map: 100%|██████████| 2388/2388 [00:00<00:00, 7954.11 examples/s]s]\n",
      "Creating parquet from Arrow format: 100%|██████████| 24/24 [00:00<00:00, 127.76ba/s]\n",
      "Map: 100%|██████████| 2388/2388 [00:00<00:00, 8917.07 examples/s]335.12s/it]\n",
      "Creating parquet from Arrow format: 100%|██████████| 24/24 [00:00<00:00, 155.47ba/s]\n",
      "Uploading the dataset shards: 100%|██████████| 2/2 [10:30<00:00, 315.48s/it]\n"
     ]
    },
    {
     "data": {
      "text/plain": [
       "CommitInfo(commit_url='https://huggingface.co/datasets/AndresSebad/memes_instagram_chilenos_es_small/commit/fbd691abc9210ce7381ebbe5151152df51f6acce', commit_message='Upload dataset', commit_description='', oid='fbd691abc9210ce7381ebbe5151152df51f6acce', pr_url=None, repo_url=RepoUrl('https://huggingface.co/datasets/AndresSebad/memes_instagram_chilenos_es_small', endpoint='https://huggingface.co', repo_type='dataset', repo_id='AndresSebad/memes_instagram_chilenos_es_small'), pr_revision=None, pr_num=None)"
      ]
     },
     "execution_count": 18,
     "metadata": {},
     "output_type": "execute_result"
    }
   ],
   "source": [
    "ds_final.push_to_hub(\"AndresSebad/memes_instagram_chilenos_es_small\")"
   ]
  },
  {
   "cell_type": "code",
   "execution_count": 19,
   "metadata": {},
   "outputs": [
    {
     "name": "stderr",
     "output_type": "stream",
     "text": [
      "Map: 100%|██████████| 4776/4776 [00:00<00:00, 9506.75 examples/s] \n"
     ]
    }
   ],
   "source": [
    "def contar_palabras(example):\n",
    "    example[\"num_words\"] = len(example[\"multiple_choice_answer\"].strip().split())\n",
    "    return example\n",
    "\n",
    "ds_final[\"train\"] = ds_final[\"train\"].map(contar_palabras)"
   ]
  },
  {
   "cell_type": "code",
   "execution_count": 20,
   "metadata": {},
   "outputs": [
    {
     "data": {
      "image/png": "[encoded data removed]",
      "text/plain": [
       "<Figure size 640x480 with 1 Axes>"
      ]
     },
     "metadata": {},
     "output_type": "display_data"
    }
   ],
   "source": [
    "import matplotlib.pyplot as plt\n",
    "\n",
    "longitudes = ds_final[\"train\"][\"num_words\"]\n",
    "\n",
    "plt.hist(longitudes, bins=100)\n",
    "plt.yscale(\"log\")\n",
    "plt.xlabel(\"Número de palabras\")\n",
    "plt.ylabel(\"Frecuencia (escala log)\")\n",
    "plt.title(\"Distribución de longitudes de respuestas\")\n",
    "plt.grid(True)\n",
    "plt.show()"
   ]
  }
 ],
 "metadata": {
  "kernelspec": {
   "display_name": ".venv",
   "language": "python",
   "name": "python3"
  },
  "language_info": {
   "codemirror_mode": {
    "name": "ipython",
    "version": 3
   },
   "file_extension": ".py",
   "mimetype": "text/x-python",
   "name": "python",
   "nbconvert_exporter": "python",
   "pygments_lexer": "ipython3",
   "version": "3.9.6"
  }
 },
 "nbformat": 4,
 "nbformat_minor": 2
}
