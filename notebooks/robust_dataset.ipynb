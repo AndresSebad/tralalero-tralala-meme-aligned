{
 "cells": [
  {
   "cell_type": "code",
   "execution_count": 1,
   "metadata": {},
   "outputs": [
    {
     "name": "stderr",
     "output_type": "stream",
     "text": [
      "/Users/andressebastian/Desktop/tralalelo-tralala-meme-allign/.venv/lib/python3.9/site-packages/urllib3/__init__.py:35: NotOpenSSLWarning: urllib3 v2 only supports OpenSSL 1.1.1+, currently the 'ssl' module is compiled with 'LibreSSL 2.8.3'. See: https://github.com/urllib3/urllib3/issues/3020\n",
      "  warnings.warn(\n",
      "/Users/andressebastian/Desktop/tralalelo-tralala-meme-allign/.venv/lib/python3.9/site-packages/tqdm/auto.py:21: TqdmWarning: IProgress not found. Please update jupyter and ipywidgets. See https://ipywidgets.readthedocs.io/en/stable/user_install.html\n",
      "  from .autonotebook import tqdm as notebook_tqdm\n"
     ]
    }
   ],
   "source": [
    "from dotenv import load_dotenv\n",
    "import os\n",
    "import praw\n",
    "import json\n",
    "from tqdm import tqdm\n",
    "from datasets import Dataset, DatasetDict, load_from_disk, load_dataset, concatenate_datasets\n",
    "import random\n",
    "\n",
    "load_dotenv()\n",
    "\n",
    "CLIENT_ID_REDDIT = os.getenv(\"CLIENT_ID_REDDIT\")\n",
    "CLIENT_SECRET_REDDIT = os.getenv(\"SECRET_KEY_REDDIT\")\n",
    "REDDIT_USERNAME = os.getenv(\"REDDIT_USERNAME\")\n",
    "REDDIT_PASSWORD = os.getenv(\"REDDIT_PASSWORD\")\n",
    "COHERE_API_KEY = os.getenv(\"COHERE_API_KEY\")\n",
    "\n",
    "import cohere\n",
    "\n",
    "co = cohere.ClientV2(api_key=os.getenv(\"COHERE_API_KEY\"))"
   ]
  },
  {
   "cell_type": "code",
   "execution_count": 2,
   "metadata": {},
   "outputs": [],
   "source": [
    "INPUT_COST_PER_MILLION = 2.50\n",
    "OUTPUT_COST_PER_MILLION = 10.00\n",
    "\n",
    "def generar_output_con_contexto(instruction, contexto_base, modelo=\"command-r-plus\"):\n",
    "    prompt = (\n",
    "        \"Eres un experto en cultura chilena y análisis de imágenes. \"\n",
    "        \"Te voy a entregar una instrucción (instruction), y un texto base (contexto_base) que explica un meme chileno. \"\n",
    "        \"Tu tarea es generar un nuevo output que responda **específicamente** a la instrucción, \"\n",
    "        \"apoyándote en el contexto base, pero **sin repetirlo literalmente**.\\n\\n\"\n",
    "        \"Tu salida debe tener máximo 150 palabras, con ejemplos concretos de la vida cotidiana chilena, referencias culturales claras y un tono cercano. \"\n",
    "        \"Puedes reinterpretar detalles, agregar referencias históricas, o explicar implicancias sociales del meme, según lo que pide la instrucción.\\n\\n\"\n",
    "        f\"Instruction: {instruction}\\n\"\n",
    "        f\"Contexto base: {contexto_base}\\n\\n\"\n",
    "        f\"Nuevo output:\"\n",
    "    )\n",
    "\n",
    "    response = co.chat(\n",
    "        model=modelo,\n",
    "        messages=[\n",
    "            {\"role\": \"system\", \"content\": \"Eres un experto chileno que genera explicaciones culturales precisas y contextualizadas de memes.\"},\n",
    "            {\"role\": \"user\", \"content\": prompt}\n",
    "        ]\n",
    "    )\n",
    "\n",
    "    input_tokens = response.usage.tokens.input_tokens\n",
    "    output_tokens = response.usage.tokens.output_tokens\n",
    "\n",
    "    input_cost = (input_tokens / 1_000_000) * INPUT_COST_PER_MILLION\n",
    "    output_cost = (output_tokens / 1_000_000) * OUTPUT_COST_PER_MILLION\n",
    "    total_cost = input_cost + output_cost\n",
    "\n",
    "    output_generado = response.message.content[0].text\n",
    "\n",
    "    return output_generado, input_tokens, output_tokens, round(total_cost, 6)"
   ]
  },
  {
   "cell_type": "code",
   "execution_count": 2,
   "metadata": {},
   "outputs": [],
   "source": [
    "dataset = load_from_disk(\"../data/processed/meme_chileno_dataset\")"
   ]
  },
  {
   "cell_type": "code",
   "execution_count": 3,
   "metadata": {},
   "outputs": [],
   "source": [
    "instr_larga = \"Si hay texto en la imagen, entiende su significado sin repetirlo. Observa también la imagen. Explica qué significa este meme en Chile, usando lenguaje coloquial chileno.\"\n",
    "instr_corta = \"Explica qué significa este meme en Chile, usando lenguaje coloquial chileno.\"\n",
    "\n",
    "def normalizar_instruction(example):\n",
    "    if example[\"instruction\"] == instr_larga:\n",
    "        example[\"instruction\"] = instr_corta\n",
    "    return example\n",
    "\n",
    "dataset[\"train\"] = dataset[\"train\"].map(normalizar_instruction)"
   ]
  },
  {
   "cell_type": "code",
   "execution_count": 5,
   "metadata": {},
   "outputs": [],
   "source": [
    "subset = dataset['train']"
   ]
  },
  {
   "cell_type": "code",
   "execution_count": 11,
   "metadata": {},
   "outputs": [
    {
     "data": {
      "text/plain": [
       "Dataset({\n",
       "    features: ['image', 'url', 'instruction', 'multiple_choice_answer'],\n",
       "    num_rows: 3568\n",
       "})"
      ]
     },
     "execution_count": 11,
     "metadata": {},
     "output_type": "execute_result"
    }
   ],
   "source": [
    "subset"
   ]
  },
  {
   "cell_type": "code",
   "execution_count": 18,
   "metadata": {},
   "outputs": [
    {
     "name": "stderr",
     "output_type": "stream",
     "text": [
      "Generando nuevos outputs: 100%|██████████| 253/253 [36:59<00:00,  8.77s/grupo]\n"
     ]
    }
   ],
   "source": [
    "ejemplos = []\n",
    "costo_total = 0\n",
    "\n",
    "new_instructions = [\n",
    "    \"Analiza este meme como una forma de crítica o comentario social dentro del contexto chileno. ¿Qué realidades, problemas o costumbres está reflejando de manera humorística o irónica?\",\n",
    "    \"¿Este meme incluye alguna referencia a figuras públicas, medios chilenos o eventos culturales? Describe cómo eso aporta al chiste o al mensaje que comunica.\"\n",
    "]\n",
    "for i in tqdm(range(2556, len(subset), 4), desc=\"Generando nuevos outputs\", unit=\"grupo\"):\n",
    "\n",
    "    for j in range(4):\n",
    "        ejemplos.append(subset[i + j])\n",
    "\n",
    "    output_original = subset[i + random.randint(0, 3)][\"multiple_choice_answer\"]\n",
    "    image = subset[i][\"image\"]\n",
    "    url = subset[i][\"url\"]\n",
    "\n",
    "    for instruction in new_instructions:\n",
    "        mejorado, in_tok, out_tok, costo = generar_output_con_contexto(instruction, output_original)\n",
    "\n",
    "        ejemplos.append({\n",
    "            \"image\": image,\n",
    "            \"url\": url,\n",
    "            \"instruction\": instruction,\n",
    "            \"multiple_choice_answer\": mejorado\n",
    "        })\n",
    "\n",
    "        costo_total += costo\n",
    "        #tqdm.write(f\"✔ Ejemplo enriquecido | Tokens: {in_tok+out_tok} | Costo acumulado: ${round(costo_total, 2)}\")"
   ]
  },
  {
   "cell_type": "code",
   "execution_count": 19,
   "metadata": {},
   "outputs": [],
   "source": [
    "enriched_dataset_1 = Dataset.from_list(ejemplos)"
   ]
  },
  {
   "cell_type": "code",
   "execution_count": 13,
   "metadata": {},
   "outputs": [],
   "source": [
    "enriched_dataset_0 = Dataset.from_list(ejemplos)"
   ]
  },
  {
   "cell_type": "code",
   "execution_count": 8,
   "metadata": {},
   "outputs": [],
   "source": [
    "enriched_dataset = Dataset.from_list(ejemplos)"
   ]
  },
  {
   "cell_type": "code",
   "execution_count": 20,
   "metadata": {},
   "outputs": [
    {
     "data": {
      "text/plain": [
       "(2129, 1703, 1518)"
      ]
     },
     "execution_count": 20,
     "metadata": {},
     "output_type": "execute_result"
    }
   ],
   "source": [
    "len(enriched_dataset), len(enriched_dataset_0), len(enriched_dataset_1)"
   ]
  },
  {
   "cell_type": "code",
   "execution_count": 21,
   "metadata": {},
   "outputs": [],
   "source": [
    "ds_combinado = concatenate_datasets([enriched_dataset, enriched_dataset_0, enriched_dataset_1])"
   ]
  },
  {
   "cell_type": "code",
   "execution_count": 28,
   "metadata": {},
   "outputs": [],
   "source": [
    "ds_final = DatasetDict({\"train\": ds_combinado})"
   ]
  },
  {
   "cell_type": "code",
   "execution_count": 29,
   "metadata": {},
   "outputs": [
    {
     "data": {
      "text/plain": [
       "DatasetDict({\n",
       "    train: Dataset({\n",
       "        features: ['image', 'url', 'instruction', 'multiple_choice_answer'],\n",
       "        num_rows: 5350\n",
       "    })\n",
       "})"
      ]
     },
     "execution_count": 29,
     "metadata": {},
     "output_type": "execute_result"
    }
   ],
   "source": [
    "ds_final"
   ]
  },
  {
   "cell_type": "code",
   "execution_count": 4,
   "metadata": {},
   "outputs": [
    {
     "data": {
      "text/plain": [
       "DatasetDict({\n",
       "    train: Dataset({\n",
       "        features: ['image', 'url', 'instruction', 'multiple_choice_answer'],\n",
       "        num_rows: 3568\n",
       "    })\n",
       "})"
      ]
     },
     "execution_count": 4,
     "metadata": {},
     "output_type": "execute_result"
    }
   ],
   "source": [
    "dataset"
   ]
  },
  {
   "cell_type": "code",
   "execution_count": 24,
   "metadata": {},
   "outputs": [
    {
     "name": "stderr",
     "output_type": "stream",
     "text": [
      "Saving the dataset (2/2 shards): 100%|██████████| 5350/5350 [00:00<00:00, 13279.55 examples/s]\n"
     ]
    }
   ],
   "source": [
    "ds_final.save_to_disk(\"../data/processed/meme_chileno_dataset_enriched_cohere\")"
   ]
  },
  {
   "cell_type": "code",
   "execution_count": 5,
   "metadata": {},
   "outputs": [
    {
     "name": "stderr",
     "output_type": "stream",
     "text": [
      "Map: 100%|██████████| 1784/1784 [00:00<00:00, 7920.79 examples/s]s]\n",
      "Creating parquet from Arrow format: 100%|██████████| 18/18 [00:00<00:00, 147.14ba/s]\n",
      "Map: 100%|██████████| 1784/1784 [00:00<00:00, 7771.69 examples/s]106.11s/it]\n",
      "Creating parquet from Arrow format: 100%|██████████| 18/18 [00:00<00:00, 160.52ba/s]\n",
      "Uploading the dataset shards: 100%|██████████| 2/2 [03:08<00:00, 94.45s/it] \n"
     ]
    },
    {
     "data": {
      "text/plain": [
       "CommitInfo(commit_url='https://huggingface.co/datasets/AndresSebad/memes_instagram_chilenos_es_small/commit/7edee3936af1c7296913991179682f1dbd764b58', commit_message='Upload dataset', commit_description='', oid='7edee3936af1c7296913991179682f1dbd764b58', pr_url=None, repo_url=RepoUrl('https://huggingface.co/datasets/AndresSebad/memes_instagram_chilenos_es_small', endpoint='https://huggingface.co', repo_type='dataset', repo_id='AndresSebad/memes_instagram_chilenos_es_small'), pr_revision=None, pr_num=None)"
      ]
     },
     "execution_count": 5,
     "metadata": {},
     "output_type": "execute_result"
    }
   ],
   "source": [
    "ds_final.push_to_hub(\"AndresSebad/memes_instagram_chilenos_es_small\")"
   ]
  },
  {
   "cell_type": "code",
   "execution_count": 25,
   "metadata": {},
   "outputs": [
    {
     "name": "stderr",
     "output_type": "stream",
     "text": [
      "Map: 100%|██████████| 5350/5350 [00:00<00:00, 12747.99 examples/s]\n"
     ]
    }
   ],
   "source": [
    "def contar_palabras(example):\n",
    "    example[\"num_words\"] = len(example[\"multiple_choice_answer\"].strip().split())\n",
    "    return example\n",
    "\n",
    "ds_final[\"train\"] = ds_final[\"train\"].map(contar_palabras)"
   ]
  },
  {
   "cell_type": "code",
   "execution_count": 26,
   "metadata": {},
   "outputs": [
    {
     "data": {
      "image/png": "[encoded data removed]",
      "text/plain": [
       "<Figure size 640x480 with 1 Axes>"
      ]
     },
     "metadata": {},
     "output_type": "display_data"
    }
   ],
   "source": [
    "import matplotlib.pyplot as plt\n",
    "\n",
    "longitudes = ds_final[\"train\"][\"num_words\"]\n",
    "\n",
    "plt.hist(longitudes, bins=100)\n",
    "plt.yscale(\"log\")\n",
    "plt.xlabel(\"Número de palabras\")\n",
    "plt.ylabel(\"Frecuencia (escala log)\")\n",
    "plt.title(\"Distribución de longitudes de respuestas\")\n",
    "plt.grid(True)\n",
    "plt.show()"
   ]
  }
 ],
 "metadata": {
  "kernelspec": {
   "display_name": ".venv",
   "language": "python",
   "name": "python3"
  },
  "language_info": {
   "codemirror_mode": {
    "name": "ipython",
    "version": 3
   },
   "file_extension": ".py",
   "mimetype": "text/x-python",
   "name": "python",
   "nbconvert_exporter": "python",
   "pygments_lexer": "ipython3",
   "version": "3.9.6"
  }
 },
 "nbformat": 4,
 "nbformat_minor": 2
}
